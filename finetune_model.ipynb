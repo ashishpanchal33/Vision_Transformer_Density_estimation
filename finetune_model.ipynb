{
 "cells": [
  {
   "cell_type": "markdown",
   "metadata": {},
   "source": [
    "# Model Finetuning\n",
    "\n",
    "Fine tuning an existing vision model using the precipication data.\n",
    "\n",
    "This notebook is largely adapted from https://pytorch.org/tutorials/beginner/transfer_learning_tutorial.html "
   ]
  },
  {
   "cell_type": "code",
   "execution_count": 1,
   "metadata": {
    "tags": []
   },
   "outputs": [],
   "source": [
    "import torch\n",
    "import torch.nn as nn\n",
    "import torch.optim as optim\n",
    "import numpy as np\n",
    "import torchvision\n",
    "from torchvision import datasets, models, transforms\n",
    "import matplotlib.pyplot as plt\n",
    "import os\n",
    "import random\n",
    "#from torchvision.models import vit_b_32, vit_h_14, vit_l_32, ViT_L_32_Weights, ViT_B_32_Weights, ViT_H_14_Weights, vit_l_16, ViT_L_16_Weights\n",
    "import yaml\n",
    "\n",
    "# Reload imported modules\n",
    "# https://stackoverflow.com/a/64166391\n",
    "%load_ext autoreload\n",
    "%autoreload 2"
   ]
  },
  {
   "cell_type": "markdown",
   "metadata": {},
   "source": [
    "# Reading config yaml"
   ]
  },
  {
   "cell_type": "code",
   "execution_count": 141,
   "metadata": {
    "tags": []
   },
   "outputs": [],
   "source": [
    "#torch.optim.lr_scheduler.LinearLR??"
   ]
  },
  {
   "cell_type": "code",
   "execution_count": 157,
   "metadata": {
    "tags": []
   },
   "outputs": [
    {
     "data": {
      "text/plain": [
       "[<matplotlib.lines.Line2D at 0x7fc6d813dc00>]"
      ]
     },
     "execution_count": 157,
     "metadata": {},
     "output_type": "execute_result"
    },
    {
     "data": {
      "image/png": "[encoded data removed]",
      "text/plain": [
       "<Figure size 640x480 with 1 Axes>"
      ]
     },
     "metadata": {},
     "output_type": "display_data"
    }
   ],
   "source": [
    "\n",
    "\n",
    "def initilize_CosineAnnealingWarmRestarts(optimizer,scheduler,warmup_scheduler,T_0=1, T_mult=2, eta_min=0.000001,\n",
    "                                          last_epoch=-1,multiplier = 0.75,warmup_end_factor=1.0, \n",
    "                                            warmup_total_iters=300\n",
    "                                         \n",
    "                                         \n",
    "                                         ):\n",
    "    \n",
    "    class CosineAnnealingWarmRestarts_2(scheduler):\n",
    "        def __init__(self,optimizer,T_0=1, T_mult=2, eta_min=0.000001,last_epoch=-1,multiplier = 0.75,\n",
    "                    warmup_end_factor=1.0, \n",
    "                    warmup_total_iters=300\n",
    "                    \n",
    "                    ):\n",
    "            super().__init__(optimizer,\n",
    "                        T_0 = T_0, \n",
    "                        T_mult = T_mult, \n",
    "                        eta_min = eta_min,\n",
    "                        last_epoch = last_epoch)\n",
    "            self.multiplier = multiplier\n",
    "            \n",
    "            #self.base_lrs[0] = base_lrs\n",
    "    \n",
    "            self.warmup = warmup_scheduler(\n",
    "                        optimizer,\n",
    "                        start_factor=eta_min,\n",
    "                        end_factor=warmup_end_factor ,\n",
    "                        total_iters=warmup_total_iters,\n",
    "                    )\n",
    "            \n",
    "            \n",
    "            \n",
    "        \n",
    "        def step(self,epoch=20,iteration=1,Batch_count=300):\n",
    "    \n",
    "            super().step(epoch + iteration / Batch_count)\n",
    "\n",
    "            if (iteration == Batch_count-1)and (epoch+1 + self.T_0) % self.T_i ==0 :\n",
    "                #print('decrease')\n",
    "\n",
    "                self.base_lrs[0] = self.base_lrs[0] * self.multiplier\n",
    "            \n",
    "        def warmup_step(self):\n",
    "            self.warmup.step()\n",
    "    \n",
    "    \n",
    "    train_scheduler = CosineAnnealingWarmRestarts_2(optimizer,\n",
    "                                T_0 = T_0, \n",
    "                                T_mult = T_mult, \n",
    "                                eta_min = eta_min,\n",
    "                                last_epoch = last_epoch,multiplier = multiplier,\n",
    "                                                   \n",
    "                               warmup_end_factor = warmup_end_factor,\n",
    "                                warmup_total_iters = warmup_total_iters\n",
    "                                                   \n",
    "                                                   )\n",
    "\n",
    "    return train_scheduler\n",
    "\n",
    "\n",
    "\n",
    "model = torch.nn.Linear(2, 1)\n",
    "optimizer = torch.optim.SGD(model.parameters(), lr=0.00001)\n",
    "\n",
    "scheduler = initilize_CosineAnnealingWarmRestarts(optimizer,CosineAnnealingWarmRestarts,torch.optim.lr_scheduler.LinearLR)\n",
    "\n",
    "\n",
    "\n",
    "\n",
    "lrs = []\n",
    "luru = []\n",
    "for i in range(30):\n",
    "    for j in range(300):\n",
    "        \n",
    "        if j*i >= warmup.total_iters:\n",
    "            scheduler.step(epoch=i,iteration=j,Batch_count=300)        \n",
    "        elif j*i < warmup.total_iters:\n",
    "            scheduler.warmup_step()        \n",
    "\n",
    "        #scheduler.step(i + j / 100)\n",
    "        lrs.append(\n",
    "            optimizer.param_groups[0][\"lr\"]\n",
    "        )\n",
    "\n",
    "        \n",
    "        luru.append(scheduler.T_i)\n",
    "        \n",
    "plt.plot(lrs)"
   ]
  },
  {
   "cell_type": "code",
   "execution_count": 116,
   "metadata": {
    "tags": []
   },
   "outputs": [],
   "source": []
  },
  {
   "cell_type": "code",
   "execution_count": 2,
   "metadata": {
    "tags": []
   },
   "outputs": [
    {
     "data": {
      "text/plain": [
       "{'Load_data_config': {'USE_SUBSET': True,\n",
       "  'EXCLUDE': False,\n",
       "  'SUBSET_SIZE': 300,\n",
       "  'DATA_DIR': '../multus_data',\n",
       "  'transforms_Resize': 256,\n",
       "  'transforms_CenterCrop': 224,\n",
       "  'transforms_Normalize': {0: [0.485, 0.456, 0.406], 1: [0.229, 0.224, 0.225]},\n",
       "  'sub_folders': ['Apr2023Precipitation', 'Precip_Primary_Bovine_Satellite'],\n",
       "  'parent_dir_to_exclude': 'Apr2023Precipitation',\n",
       "  'class_to_exclude': '0.0'},\n",
       " 'hparams': {'batch_size': 4,\n",
       "  'NUM_EPOCHS': 5,\n",
       "  'dropout': 0.0,\n",
       "  'epoch_start': 0},\n",
       " 'optimizer': {'params': {'lr': 0.002, 'momentum': 0.0}, 'name': 'SGD'},\n",
       " 'scheduler': {'params': {'T_0': 1,\n",
       "   'T_mult': 2,\n",
       "   'eta_min': 1e-06,\n",
       "   'last_epoch': -1,\n",
       "   'multiplier': 0.75,\n",
       "   'warmup_end_factor': 1.0,\n",
       "   'warmup_total_iters': 500},\n",
       "  'name': 'lr_scheduler',\n",
       "  'function_name': 'CosineAnnealingWarmRestarts'},\n",
       " 'timm': {'model_name': 'timm/vit_base_patch8_224.augreg2_in21k_ft_in1k',\n",
       "  'pretrained': True,\n",
       "  'num_classes': 5},\n",
       " 'MHSA_only': False,\n",
       " 'Weight_decay_only': False,\n",
       " 'Weight_decay': {'base': 0.0, 'head': 0.0},\n",
       " 'Loss': {'name': 'CrossEntropyLoss', 'params': {}},\n",
       " 'model': {'type': 'vit_b_8_Cos_S_1_BS4_Trial_3'},\n",
       " 'first_run': True}"
      ]
     },
     "metadata": {},
     "output_type": "display_data"
    }
   ],
   "source": [
    "from copy import deepcopy\n",
    "\n",
    "\n",
    "## setting few initial params\n",
    "def set_init_params(Base_configurations):\n",
    "    global USE_SUBSET\n",
    "    global EXCLUDE\n",
    "    global SUBSET_SIZE\n",
    "    global DATA_DIR\n",
    "    global sub_folders\n",
    "    global batch_size\n",
    "    global NUM_EPOCHS\n",
    "    global dropout\n",
    "    global epoch_start\n",
    "    \n",
    "    USE_SUBSET = Base_configurations['Load_data_config']['USE_SUBSET']\n",
    "    EXCLUDE = Base_configurations['Load_data_config']['EXCLUDE']\n",
    "    # The number of images to take from each class for the dataset\n",
    "    SUBSET_SIZE = Base_configurations['Load_data_config']['SUBSET_SIZE']\n",
    "    # Expected directory path to image datasets\n",
    "    DATA_DIR = Base_configurations['Load_data_config']['DATA_DIR']\n",
    "    sub_folders = Base_configurations['Load_data_config']['sub_folders']\n",
    "\n",
    "    # Hyperparameters to change \n",
    "    batch_size = Base_configurations['hparams']['batch_size']\n",
    "    NUM_EPOCHS = Base_configurations['hparams']['NUM_EPOCHS']\n",
    "    dropout = Base_configurations['hparams']['dropout']\n",
    "    epoch_start = Base_configurations['hparams']['epoch_start']\n",
    "\n",
    "\n",
    "def init_base_config(loc= 'utils/Base_configurations.yaml',set_global = True):\n",
    "    if set_global:\n",
    "        global Base_configurations_raw\n",
    "        \n",
    "        \n",
    "        \n",
    "    with open(loc, 'r') as file:\n",
    "        Base_configurations_raw = yaml.safe_load(file)\n",
    "        #display(Base_configurations_raw)\n",
    "        \n",
    "    if set_global:   \n",
    "        set_init_params(Base_configurations_raw)\n",
    "        \n",
    "    return Base_configurations_raw\n",
    "\n",
    "\n",
    "\n",
    "def load_experiment_config(Base_configurations_raw,loc = 'utils/Experiments.yaml',experiment_name = '' ,set_global = True):\n",
    "\n",
    "    if set_global:\n",
    "        global Base_configurations    \n",
    "    \n",
    "    Base_configurations = deepcopy(Base_configurations_raw)\n",
    "\n",
    "    #reading experiment_config:\n",
    "    with open(loc, 'r') as file:\n",
    "        Experiments_configurations = yaml.safe_load(file)\n",
    "\n",
    "    experiment_name = experiment_name if experiment_name in Experiments_configurations.keys() else Experiments_configurations['experiment_name']\n",
    "    \n",
    "    #updating experiment configurations\n",
    "    if Experiments_configurations['Run_experiment']:\n",
    "        experiment = Experiments_configurations[experiment_name]\n",
    "        Base_configurations.update(**experiment)\n",
    "        #display(Base_configurations)\n",
    "        \n",
    "    if set_global:   \n",
    "        set_init_params(Base_configurations)\n",
    "    \n",
    "    return Base_configurations  \n",
    "\n",
    "\n",
    "################# INIT #################\n",
    "Base_configurations_raw = init_base_config()\n",
    "Base_configurations = load_experiment_config(Base_configurations_raw,loc = 'utils/Experiments.yaml',experiment_name = '')\n",
    "\n",
    "#set_init_params(Base_configurations)\n",
    "\n",
    "display(Base_configurations)"
   ]
  },
  {
   "cell_type": "markdown",
   "metadata": {},
   "source": [
    "# Load Data functions"
   ]
  },
  {
   "cell_type": "code",
   "execution_count": 3,
   "metadata": {
    "tags": []
   },
   "outputs": [],
   "source": [
    "from utils.data_utils import subset_imagefolder, exclude_dir\n",
    "\n",
    "\n",
    "## Creating data transformers\n",
    "\n",
    "def data_transforms_func(Base_configurations,sub_folders):\n",
    "\n",
    "    data_transforms = { i : transforms.Compose(\n",
    "                                [\n",
    "                                    transforms.Resize(Base_configurations['Load_data_config']['transforms_CenterCrop']),\n",
    "                                    transforms.CenterCrop(Base_configurations['Load_data_config']['transforms_CenterCrop']),\n",
    "                                    transforms.ToTensor(),\n",
    "                                    # Rationale for Normalization https://stackoverflow.com/a/58151903\n",
    "                                    transforms.Normalize(Base_configurations['Load_data_config']['transforms_Normalize'][0],\n",
    "\n",
    "                                                        Base_configurations['Load_data_config']['transforms_Normalize'][1]\n",
    "\n",
    "                                                        ),\n",
    "                                ]\n",
    "                            )\n",
    "\n",
    "                            for i in sub_folders}\n",
    "    \n",
    "    return data_transforms\n",
    "\n",
    "\n",
    "#creating image datasets\n",
    "\n",
    "\n",
    "def create_imagedatasets(sub_folders,data_transforms,DATA_DIR=DATA_DIR,seed = 1000):\n",
    "\n",
    "\n",
    "    random.seed(seed)\n",
    "\n",
    "\n",
    "\n",
    "    # Should only a subset of data be included in dataset?\n",
    "    # Useful if just trying to test the notebook locally\n",
    "\n",
    "\n",
    "    image_datasets = {\n",
    "        x: datasets.ImageFolder(os.path.join(DATA_DIR, x), data_transforms[x])\n",
    "        for x in sub_folders\n",
    "    }\n",
    "\n",
    "    class_names = image_datasets[sub_folders[0]].classes\n",
    "    \n",
    "    return image_datasets, class_names\n",
    "\n",
    "\n",
    "def create_merge_dataset(image_datasets,sub_folders,Base_configurations=Base_configurations,\n",
    "                         SUBSET_SIZE=SUBSET_SIZE,USE_SUBSET=USE_SUBSET,EXCLUDE=EXCLUDE): \n",
    "\n",
    "    if USE_SUBSET:\n",
    "        image_datasets = {\n",
    "            x: subset_imagefolder(image_datasets[x], subset_size=SUBSET_SIZE)\n",
    "            for x in sub_folders\n",
    "        }\n",
    "    elif EXCLUDE:\n",
    "        parent_dir_to_exclude = Base_configurations['Load_data_config']['parent_dir_to_exclude']\n",
    "        class_to_exclude = Base_configurations['Load_data_config']['class_to_exclude']\n",
    "        #image_datasets = {}\n",
    "        for x in sub_folders:\n",
    "            if x == parent_dir_to_exclude:\n",
    "                image_datasets[x] = exclude_dir(image_datasets[x], class_to_exclude, SUBSET_SIZE)\n",
    "            #else:\n",
    "            #    image_datasets[x] = \n",
    "    merged_dataset = torch.utils.data.ConcatDataset(image_datasets.values())\n",
    "\n",
    "    return merged_dataset\n",
    "    \n",
    "#******************************************************    \n",
    "## Creating test val split  *******************************************\n",
    "\n",
    "def create_test_val_split(merged_dataset,train_ratio=0.8,batch_size=batch_size,\n",
    "                         shuffle=True,num_workers=0):\n",
    "    train_size = int(train_ratio * len(merged_dataset))\n",
    "    val_size = len(merged_dataset) - train_size\n",
    "    train_dataset, val_dataset = torch.utils.data.random_split(\n",
    "        merged_dataset, [train_size, val_size]\n",
    "    )\n",
    "    datasets_for_training = {\"train\": train_dataset, \"val\": val_dataset}\n",
    "\n",
    "    dataloaders = {\n",
    "        x: torch.utils.data.DataLoader(\n",
    "            datasets_for_training[x], batch_size=batch_size, shuffle=shuffle, num_workers=num_workers\n",
    "        )\n",
    "        for x in [\"train\", \"val\"]\n",
    "    }\n",
    "    dataset_sizes = {x: len(datasets_for_training[x]) for x in [\"train\", \"val\"]}\n",
    "\n",
    "    #setting device\n",
    "    device = torch.device(\"cuda\" if torch.cuda.is_available() else \"cpu\")\n",
    "    \n",
    "    \n",
    "    inputs, _ = next(iter(dataloaders[\"train\"]))\n",
    "    \n",
    "    \n",
    "    return dataloaders,dataset_sizes,device,inputs    \n",
    "    "
   ]
  },
  {
   "cell_type": "markdown",
   "metadata": {},
   "source": [
    "# model functions"
   ]
  },
  {
   "cell_type": "code",
   "execution_count": 4,
   "metadata": {
    "tags": []
   },
   "outputs": [],
   "source": [
    "import timm\n",
    "\n",
    "from utils.config_utils import *\n",
    "\n",
    "from utils.training_utils import train_model, create_writer\n",
    "\n",
    "#model = timm.create_model('vit_base_patch32_224.augreg_in21k', pretrained=True, num_classes=5)\n",
    "#model = timm.create_model('vit_base_patch32_clip_224.laion2b_ft_in12k_in1k', pretrained=True, num_classes=5)\n",
    "\n",
    "def create_timm_model(Base_configurations,device):\n",
    "\n",
    "    model_name = Base_configurations['timm']['model_name']\n",
    "    pretrained = Base_configurations['timm']['pretrained']\n",
    "    num_classes = Base_configurations['timm']['num_classes']\n",
    "\n",
    "    model = timm.create_model(model_name, pretrained=pretrained, num_classes=num_classes)\n",
    "\n",
    "\n",
    "\n",
    "    #num_classes = 5\n",
    "    model = model.to(device)\n",
    "    \n",
    "    return model\n",
    "\n",
    "#******************************************************  \n",
    "## Training augmentation modules #******************************************************  \n",
    "def run_util_config_pipeline(model,Base_configurations,MHSA=True,WD=True):\n",
    "\n",
    "    #1.  only training attention head parameters\n",
    "    if Base_configurations['MHSA_only'] and MHSA:\n",
    "        model = attention_head_only_training(model)\n",
    "\n",
    "\n",
    "\n",
    "    #2. decoupling weight decay\n",
    "\n",
    "    if Base_configurations['Weight_decay_only'] and WD:\n",
    "        param_groups = decoupled_weight_decay(weight_decay_dict=Base_configurations['Weight_decay'], model=model)\n",
    "    else:\n",
    "        param_groups = filter(lambda p: p.requires_grad, model.parameters())\n",
    "        \n",
    "        \n",
    "    return model,param_groups\n",
    "\n",
    "\n",
    "\n",
    "\n",
    "\n",
    "#******************************************************  #******************************************************  \n",
    "# Functions #******************************************************  \n",
    "#    - Loss\n",
    "#    - Optimizer\n",
    "#    - Scheduler\n",
    "\n",
    "def create_loss_optim_scheduler(param_groups,Base_configurations):\n",
    "\n",
    "    #loss function\n",
    "    Loss_func = getattr(nn, Base_configurations['Loss']['name'])\n",
    "    criterion = Loss_func(**Base_configurations['Loss']['params'])\n",
    "\n",
    "    #optimizer function\n",
    "\n",
    "    optim_func = getattr(optim, Base_configurations['optimizer']['name'])\n",
    "    optimizer_ft = optim_func(param_groups,\n",
    "                              **Base_configurations['optimizer']['params'])\n",
    "    optimizer = type(optimizer_ft).__name__\n",
    "\n",
    "\n",
    "    #schedular \n",
    "    scheduler = getattr(optim, Base_configurations['scheduler']['name'])\n",
    "    scheduler_function = getattr(scheduler, Base_configurations['scheduler']['function_name'])\n",
    "\n",
    "    if Base_configurations['scheduler']['function_name'] == 'CosineAnnealingWarmRestarts':\n",
    "        exp_lr_scheduler = initilize_CosineAnnealingWarmRestarts(optimizer_ft,scheduler_function,torch.optim.lr_scheduler.LinearLR\n",
    "                                                                 \n",
    "                                                                 , **Base_configurations['scheduler']['params'] )\n",
    "    else:\n",
    "        exp_lr_scheduler = scheduler_function(optimizer_ft, **Base_configurations['scheduler']['params'])\n",
    "\n",
    "        \n",
    "\n",
    "    return criterion,optimizer,optimizer_ft,exp_lr_scheduler\n",
    "\n",
    "\n",
    "\n",
    "#log dicts\n",
    "\n",
    "def model_log_params(Base_configurations,\n",
    "                    \n",
    "                    optimizer\n",
    "                    ,NUM_EPOCHS\n",
    "                    ,dropout\n",
    "                    ,batch_size\n",
    "                    ,criterion\n",
    "                    ,misc = ''\n",
    "\n",
    "                    ):\n",
    "\n",
    "    model_type = Base_configurations['model']['type']+misc # for logging \n",
    "\n",
    "    hparams = ( Base_configurations['optimizer']['params'] |{\n",
    "                    \"optimizer\": optimizer,\n",
    "                    \"epochs\": NUM_EPOCHS,\n",
    "                    \"dropout\": dropout,\n",
    "                    \"Batch_size:\": batch_size,\n",
    "                   \"loss_crit\": criterion._get_name()})\n",
    "    \n",
    "    return model_type, hparams\n",
    "\n",
    "\n",
    "    \n",
    "    \n",
    "#################################\n",
    "## Loading and transforming data\n",
    "\n",
    "def handle_data(Base_configurations,sub_folders,DATA_DIR=DATA_DIR,seed = 1000,\n",
    "                SUBSET_SIZE=SUBSET_SIZE,USE_SUBSET=USE_SUBSET,EXCLUDE=EXCLUDE,train_ratio=0.8,\n",
    "               batch_size=batch_size,shuffle=True,num_workers=0\n",
    "               ):\n",
    "\n",
    "    data_transforms = data_transforms_func(Base_configurations,sub_folders)\n",
    "\n",
    "\n",
    "    image_datasets, class_names = create_imagedatasets(sub_folders,data_transforms,DATA_DIR=DATA_DIR,seed = seed)\n",
    "\n",
    "    print(\"Classes: \", class_names)\n",
    "    merged_dataset = create_merge_dataset(image_datasets,sub_folders,Base_configurations=Base_configurations,\n",
    "                             SUBSET_SIZE=SUBSET_SIZE,USE_SUBSET=USE_SUBSET,EXCLUDE=EXCLUDE) \n",
    "\n",
    "    print('number of instances to be used are', len(merged_dataset))\n",
    "\n",
    "\n",
    "\n",
    "    dataloaders,dataset_sizes,device,inputs =  create_test_val_split(merged_dataset,train_ratio=train_ratio,batch_size=batch_size,\n",
    "                                                 shuffle=shuffle,num_workers=num_workers) \n",
    "    print(device)\n",
    "\n",
    "    return dataloaders,dataset_sizes,device,inputs,merged_dataset, image_datasets, class_names,data_transforms\n",
    "\n",
    "\n",
    "\n",
    "\n",
    "def run_model_fine_tuning(SUBSET_SIZE,model_type,hparams,model,criterion,optimizer_ft,exp_lr_scheduler,\n",
    "              dataloaders,device,dataset_sizes,class_names,\n",
    "                          \n",
    "                          num_epochs=NUM_EPOCHS\n",
    "                          ,epoch_start=0, writer = None, use_prior_writer= False, \n",
    "                          return_writer = False, misc = ''\n",
    "             \n",
    "             \n",
    "             ):\n",
    "\n",
    "\n",
    "    model_type = model_type+misc\n",
    "\n",
    "    if use_prior_writer:\n",
    "        if type(writer) == type(None):\n",
    "            writer = create_writer(str(SUBSET_SIZE)+'_data_instances',model_type)\n",
    "            writer.add_hparams(hparam_dict=hparams, metric_dict={})\n",
    "    else:\n",
    "        writer = create_writer(str(SUBSET_SIZE)+'_data_instances',model_type)\n",
    "        writer.add_hparams(hparam_dict=hparams, metric_dict={})\n",
    "\n",
    "\n",
    "\n",
    "\n",
    "\n",
    "\n",
    "    model,param_dict = train_model(\n",
    "        model,\n",
    "        criterion,\n",
    "        optimizer_ft,\n",
    "        exp_lr_scheduler,\n",
    "        dataloaders,\n",
    "        device,\n",
    "        dataset_sizes,\n",
    "        writer,\n",
    "        model_type,\n",
    "        class_names,\n",
    "        num_epochs=NUM_EPOCHS,\n",
    "        epoch_start=epoch_start\n",
    "    )\n",
    "\n",
    "    if return_writer:\n",
    "        return model,param_dict, writer\n",
    "    else:\n",
    "\n",
    "        writer.close()\n",
    "        return model,param_dict,None\n",
    "    \n",
    "    \n",
    "\n",
    "\n"
   ]
  },
  {
   "cell_type": "markdown",
   "metadata": {},
   "source": [
    "\n",
    "# creating model for experiment"
   ]
  },
  {
   "cell_type": "code",
   "execution_count": 5,
   "metadata": {
    "tags": []
   },
   "outputs": [],
   "source": [
    "\n",
    "\n",
    "\n",
    "\n",
    "def set_experiment_model(Base_configurations,device,NUM_EPOCHS,dropout\n",
    "                                                                ,batch_size,model=None,use_existing_model=False):\n",
    "\n",
    "\n",
    "    if not use_existing_model:\n",
    "\n",
    "        model = create_timm_model(Base_configurations,device)\n",
    "    else:\n",
    "        if type(model) == type(None):\n",
    "            raise TypeError(\"model type is none\")\n",
    "        \n",
    "\n",
    "    model,param_groups = run_util_config_pipeline(model,Base_configurations)\n",
    "\n",
    "\n",
    "\n",
    "    criterion,optimizer,optimizer_ft,exp_lr_scheduler = create_loss_optim_scheduler(param_groups,Base_configurations)\n",
    "\n",
    "\n",
    "\n",
    "    model_type, hparams = model_log_params(Base_configurations,\n",
    "\n",
    "                                            optimizer\n",
    "                                            ,NUM_EPOCHS\n",
    "                                            ,dropout\n",
    "                                            ,batch_size\n",
    "                                            ,criterion\n",
    "                                            )\n",
    "\n",
    "    return model,param_groups, criterion,optimizer,optimizer_ft,exp_lr_scheduler, model_type, hparams\n",
    "\n",
    "\n",
    "\n"
   ]
  },
  {
   "cell_type": "markdown",
   "metadata": {
    "tags": []
   },
   "source": [
    "# Tune model and Log tensorboard"
   ]
  },
  {
   "cell_type": "markdown",
   "metadata": {},
   "source": [
    "# Tune model and Log tensorboard"
   ]
  },
  {
   "cell_type": "code",
   "execution_count": 6,
   "metadata": {
    "tags": []
   },
   "outputs": [
    {
     "name": "stdout",
     "output_type": "stream",
     "text": [
      "Classes:  ['0.0', '0.25', '0.5', '0.75', '1.0']\n",
      "number of instances to be used are 2826\n",
      "cuda\n",
      "[INFO] Created SummaryWriter, saving to: runs/2024-04-25/300_data_instances/vit_b_8_Cos_S_1_BS4_Trial_3/19-39-34...\n",
      "Epoch 0/4\n",
      "----------\n",
      "current_LR: 0.00000000\n"
     ]
    },
    {
     "name": "stderr",
     "output_type": "stream",
     "text": [
      "                                                                          \r"
     ]
    },
    {
     "ename": "KeyboardInterrupt",
     "evalue": "",
     "output_type": "error",
     "traceback": [
      "\u001b[0;31m---------------------------------------------------------------------------\u001b[0m",
      "\u001b[0;31mKeyboardInterrupt\u001b[0m                         Traceback (most recent call last)",
      "Cell \u001b[0;32mIn[6], line 26\u001b[0m\n\u001b[1;32m     11\u001b[0m (dataloaders,dataset_sizes,\n\u001b[1;32m     12\u001b[0m  device,inputs,\n\u001b[1;32m     13\u001b[0m  merged_dataset, image_datasets, \n\u001b[0;32m   (...)\u001b[0m\n\u001b[1;32m     16\u001b[0m                                    batch_size\u001b[38;5;241m=\u001b[39mbatch_size,shuffle\u001b[38;5;241m=\u001b[39m\u001b[38;5;28;01mTrue\u001b[39;00m,num_workers\u001b[38;5;241m=\u001b[39m\u001b[38;5;241m0\u001b[39m\n\u001b[1;32m     17\u001b[0m                                    )\n\u001b[1;32m     21\u001b[0m (model,param_groups, criterion,\n\u001b[1;32m     22\u001b[0m  optimizer,optimizer_ft,\n\u001b[1;32m     23\u001b[0m   exp_lr_scheduler, model_type, hparams) \u001b[38;5;241m=\u001b[39m set_experiment_model(Base_configurations,device,NUM_EPOCHS,dropout\n\u001b[1;32m     24\u001b[0m                                                                 ,batch_size,model\u001b[38;5;241m=\u001b[39m\u001b[38;5;28;01mNone\u001b[39;00m,use_existing_model\u001b[38;5;241m=\u001b[39m\u001b[38;5;28;01mFalse\u001b[39;00m)\n\u001b[0;32m---> 26\u001b[0m model,param_dict,writer \u001b[38;5;241m=\u001b[39m   \u001b[43mrun_model_fine_tuning\u001b[49m\u001b[43m(\u001b[49m\u001b[43mSUBSET_SIZE\u001b[49m\u001b[43m,\u001b[49m\u001b[43mmodel_type\u001b[49m\u001b[43m,\u001b[49m\u001b[43mhparams\u001b[49m\u001b[43m,\u001b[49m\u001b[43mmodel\u001b[49m\u001b[43m,\u001b[49m\u001b[43mcriterion\u001b[49m\u001b[43m,\u001b[49m\u001b[43moptimizer_ft\u001b[49m\u001b[43m,\u001b[49m\u001b[43mexp_lr_scheduler\u001b[49m\u001b[43m,\u001b[49m\n\u001b[1;32m     27\u001b[0m \u001b[43m                              \u001b[49m\u001b[43mdataloaders\u001b[49m\u001b[43m,\u001b[49m\u001b[43mdevice\u001b[49m\u001b[43m,\u001b[49m\u001b[43mdataset_sizes\u001b[49m\u001b[43m,\u001b[49m\u001b[43mclass_names\u001b[49m\u001b[43m,\u001b[49m\n\u001b[1;32m     28\u001b[0m \n\u001b[1;32m     29\u001b[0m \u001b[43m                              \u001b[49m\u001b[43mnum_epochs\u001b[49m\u001b[38;5;241;43m=\u001b[39;49m\u001b[43mNUM_EPOCHS\u001b[49m\n\u001b[1;32m     30\u001b[0m \u001b[43m                              \u001b[49m\u001b[43m,\u001b[49m\u001b[43mepoch_start\u001b[49m\u001b[38;5;241;43m=\u001b[39;49m\u001b[43mepoch_start\u001b[49m\u001b[43m,\u001b[49m\u001b[43m \u001b[49m\u001b[43mwriter\u001b[49m\u001b[43m \u001b[49m\u001b[38;5;241;43m=\u001b[39;49m\u001b[43m \u001b[49m\u001b[38;5;28;43;01mNone\u001b[39;49;00m\u001b[43m,\u001b[49m\u001b[43m \u001b[49m\u001b[43muse_prior_writer\u001b[49m\u001b[38;5;241;43m=\u001b[39;49m\u001b[43m \u001b[49m\u001b[38;5;28;43;01mFalse\u001b[39;49;00m\u001b[43m,\u001b[49m\u001b[43m \u001b[49m\n\u001b[1;32m     31\u001b[0m \u001b[43m                              \u001b[49m\u001b[43mreturn_writer\u001b[49m\u001b[43m \u001b[49m\u001b[38;5;241;43m=\u001b[39;49m\u001b[43m \u001b[49m\u001b[38;5;28;43;01mTrue\u001b[39;49;00m\u001b[43m,\u001b[49m\u001b[43m \u001b[49m\u001b[43mmisc\u001b[49m\u001b[43m \u001b[49m\u001b[38;5;241;43m=\u001b[39;49m\u001b[43m \u001b[49m\u001b[38;5;124;43m'\u001b[39;49m\u001b[38;5;124;43m'\u001b[39;49m\n\u001b[1;32m     32\u001b[0m \n\u001b[1;32m     33\u001b[0m \n\u001b[1;32m     34\u001b[0m \u001b[43m                             \u001b[49m\u001b[43m)\u001b[49m  \n",
      "Cell \u001b[0;32mIn[4], line 169\u001b[0m, in \u001b[0;36mrun_model_fine_tuning\u001b[0;34m(SUBSET_SIZE, model_type, hparams, model, criterion, optimizer_ft, exp_lr_scheduler, dataloaders, device, dataset_sizes, class_names, num_epochs, epoch_start, writer, use_prior_writer, return_writer, misc)\u001b[0m\n\u001b[1;32m    161\u001b[0m     writer \u001b[38;5;241m=\u001b[39m create_writer(\u001b[38;5;28mstr\u001b[39m(SUBSET_SIZE)\u001b[38;5;241m+\u001b[39m\u001b[38;5;124m'\u001b[39m\u001b[38;5;124m_data_instances\u001b[39m\u001b[38;5;124m'\u001b[39m,model_type)\n\u001b[1;32m    162\u001b[0m     writer\u001b[38;5;241m.\u001b[39madd_hparams(hparam_dict\u001b[38;5;241m=\u001b[39mhparams, metric_dict\u001b[38;5;241m=\u001b[39m{})\n\u001b[0;32m--> 169\u001b[0m model,param_dict \u001b[38;5;241m=\u001b[39m \u001b[43mtrain_model\u001b[49m\u001b[43m(\u001b[49m\n\u001b[1;32m    170\u001b[0m \u001b[43m    \u001b[49m\u001b[43mmodel\u001b[49m\u001b[43m,\u001b[49m\n\u001b[1;32m    171\u001b[0m \u001b[43m    \u001b[49m\u001b[43mcriterion\u001b[49m\u001b[43m,\u001b[49m\n\u001b[1;32m    172\u001b[0m \u001b[43m    \u001b[49m\u001b[43moptimizer_ft\u001b[49m\u001b[43m,\u001b[49m\n\u001b[1;32m    173\u001b[0m \u001b[43m    \u001b[49m\u001b[43mexp_lr_scheduler\u001b[49m\u001b[43m,\u001b[49m\n\u001b[1;32m    174\u001b[0m \u001b[43m    \u001b[49m\u001b[43mdataloaders\u001b[49m\u001b[43m,\u001b[49m\n\u001b[1;32m    175\u001b[0m \u001b[43m    \u001b[49m\u001b[43mdevice\u001b[49m\u001b[43m,\u001b[49m\n\u001b[1;32m    176\u001b[0m \u001b[43m    \u001b[49m\u001b[43mdataset_sizes\u001b[49m\u001b[43m,\u001b[49m\n\u001b[1;32m    177\u001b[0m \u001b[43m    \u001b[49m\u001b[43mwriter\u001b[49m\u001b[43m,\u001b[49m\n\u001b[1;32m    178\u001b[0m \u001b[43m    \u001b[49m\u001b[43mmodel_type\u001b[49m\u001b[43m,\u001b[49m\n\u001b[1;32m    179\u001b[0m \u001b[43m    \u001b[49m\u001b[43mclass_names\u001b[49m\u001b[43m,\u001b[49m\n\u001b[1;32m    180\u001b[0m \u001b[43m    \u001b[49m\u001b[43mnum_epochs\u001b[49m\u001b[38;5;241;43m=\u001b[39;49m\u001b[43mNUM_EPOCHS\u001b[49m\u001b[43m,\u001b[49m\n\u001b[1;32m    181\u001b[0m \u001b[43m    \u001b[49m\u001b[43mepoch_start\u001b[49m\u001b[38;5;241;43m=\u001b[39;49m\u001b[43mepoch_start\u001b[49m\n\u001b[1;32m    182\u001b[0m \u001b[43m\u001b[49m\u001b[43m)\u001b[49m\n\u001b[1;32m    184\u001b[0m \u001b[38;5;28;01mif\u001b[39;00m return_writer:\n\u001b[1;32m    185\u001b[0m     \u001b[38;5;28;01mreturn\u001b[39;00m model,param_dict, writer\n",
      "File \u001b[0;32m~/CS7643_Final_project/utils/training_utils.py:133\u001b[0m, in \u001b[0;36mtrain_model\u001b[0;34m(model, criterion, optimizer, scheduler, dataloaders, device, dataset_sizes, tensorboard_writer, model_type, class_names, num_epochs, epoch_start)\u001b[0m\n\u001b[1;32m    128\u001b[0m             scheduler\u001b[38;5;241m.\u001b[39mwarmup_step()\n\u001b[1;32m    129\u001b[0m             \u001b[38;5;66;03m#cur_lr = optimizer.param_groups[0][\"lr\"]\u001b[39;00m\n\u001b[1;32m    130\u001b[0m             \u001b[38;5;66;03m#print(f\"current_LR: {cur_lr:.8f}\")\u001b[39;00m\n\u001b[1;32m    131\u001b[0m \n\u001b[1;32m    132\u001b[0m \u001b[38;5;66;03m# statistics\u001b[39;00m\n\u001b[0;32m--> 133\u001b[0m running_loss \u001b[38;5;241m+\u001b[39m\u001b[38;5;241m=\u001b[39m \u001b[43mloss\u001b[49m\u001b[38;5;241;43m.\u001b[39;49m\u001b[43mitem\u001b[49m\u001b[43m(\u001b[49m\u001b[43m)\u001b[49m \u001b[38;5;241m*\u001b[39m inputs\u001b[38;5;241m.\u001b[39msize(\u001b[38;5;241m0\u001b[39m)\n\u001b[1;32m    134\u001b[0m running_corrects \u001b[38;5;241m+\u001b[39m\u001b[38;5;241m=\u001b[39m torch\u001b[38;5;241m.\u001b[39msum(preds \u001b[38;5;241m==\u001b[39m labels\u001b[38;5;241m.\u001b[39mdata)\n\u001b[1;32m    136\u001b[0m \u001b[38;5;66;03m# Calculate per-class accuracy\u001b[39;00m\n",
      "\u001b[0;31mKeyboardInterrupt\u001b[0m: "
     ]
    }
   ],
   "source": [
    "#use this function is running a new experiment\n",
    "# for different experiemnts, just copy and paste this below code, after making changes in the experiment yaml and run it\n",
    "\n",
    "Base_configurations_raw = init_base_config()\n",
    "Base_configurations = load_experiment_config(Base_configurations_raw,loc = 'utils/Experiments.yaml',experiment_name = '')\n",
    "\n",
    "\n",
    "if Base_configurations['first_run']:\n",
    "        \n",
    "    #running_dataloader\n",
    "    (dataloaders,dataset_sizes,\n",
    "     device,inputs,\n",
    "     merged_dataset, image_datasets, \n",
    "     class_names,data_transforms) = handle_data(Base_configurations,sub_folders,DATA_DIR=DATA_DIR,seed = 1000,\n",
    "                                        SUBSET_SIZE=SUBSET_SIZE,USE_SUBSET=USE_SUBSET,EXCLUDE=EXCLUDE,train_ratio=0.8,\n",
    "                                       batch_size=batch_size,shuffle=True,num_workers=0\n",
    "                                       )\n",
    "    \n",
    "    \n",
    "    \n",
    "    (model,param_groups, criterion,\n",
    "     optimizer,optimizer_ft,\n",
    "      exp_lr_scheduler, model_type, hparams) = set_experiment_model(Base_configurations,device,NUM_EPOCHS,dropout\n",
    "                                                                    ,batch_size,model=None,use_existing_model=False)\n",
    "\n",
    "    model,param_dict,writer =   run_model_fine_tuning(SUBSET_SIZE,model_type,hparams,model,criterion,optimizer_ft,exp_lr_scheduler,\n",
    "                                  dataloaders,device,dataset_sizes,class_names,\n",
    "\n",
    "                                  num_epochs=NUM_EPOCHS\n",
    "                                  ,epoch_start=epoch_start, writer = None, use_prior_writer= False, \n",
    "                                  return_writer = True, misc = ''\n",
    "\n",
    "\n",
    "                                 )  "
   ]
  },
  {
   "cell_type": "code",
   "execution_count": null,
   "metadata": {
    "tags": []
   },
   "outputs": [
    {
     "name": "stdout",
     "output_type": "stream",
     "text": [
      "Classes:  ['0.0', '0.25', '0.5', '0.75', '1.0']\n",
      "number of instances to be used are 20054\n",
      "cuda\n",
      "[INFO] Created SummaryWriter, saving to: runs/2024-04-25/3000_data_instances/vit_b_8_Cos_S_1_BS4/19-40-28...\n",
      "Epoch 0/29\n",
      "----------\n",
      "current_LR: 0.00000000\n"
     ]
    },
    {
     "name": "stderr",
     "output_type": "stream",
     "text": [
      "                                                                                \r"
     ]
    },
    {
     "name": "stdout",
     "output_type": "stream",
     "text": [
      "train Loss: 0.9760 Acc: 0.5615\n",
      "Per-class Accuracy:\n",
      "0.0: 0.6568\n",
      "0.25: 0.5549\n",
      "0.5: 0.4575\n",
      "0.75: 0.5310\n",
      "1.0: 0.7106\n"
     ]
    },
    {
     "name": "stderr",
     "output_type": "stream",
     "text": [
      "                                                                             \r"
     ]
    },
    {
     "name": "stdout",
     "output_type": "stream",
     "text": [
      "val Loss: 1.0336 Acc: 0.5467\n",
      "Per-class Accuracy:\n",
      "0.0: 0.8493\n",
      "0.25: 0.5852\n",
      "0.5: 0.1744\n",
      "0.75: 0.6418\n",
      "1.0: 0.2553\n",
      "\n",
      "Epoch 1/29\n",
      "----------\n",
      "current_LR: 0.00155525\n"
     ]
    },
    {
     "name": "stderr",
     "output_type": "stream",
     "text": [
      "                                                                                \r"
     ]
    },
    {
     "name": "stdout",
     "output_type": "stream",
     "text": [
      "train Loss: 0.7724 Acc: 0.6601\n",
      "Per-class Accuracy:\n",
      "0.0: 0.7548\n",
      "0.25: 0.6542\n",
      "0.5: 0.5542\n",
      "0.75: 0.6180\n",
      "1.0: 0.8547\n"
     ]
    },
    {
     "name": "stderr",
     "output_type": "stream",
     "text": [
      "                                                                              \r"
     ]
    },
    {
     "name": "stdout",
     "output_type": "stream",
     "text": [
      "val Loss: 0.5662 Acc: 0.7602\n",
      "Per-class Accuracy:\n",
      "0.0: 0.8933\n",
      "0.25: 0.6567\n",
      "0.5: 0.7883\n",
      "0.75: 0.6129\n",
      "1.0: 0.9628\n",
      "\n",
      "Epoch 2/29\n",
      "----------\n",
      "current_LR: 0.00100089\n"
     ]
    },
    {
     "name": "stderr",
     "output_type": "stream",
     "text": [
      "                                                                                  \r"
     ]
    },
    {
     "name": "stdout",
     "output_type": "stream",
     "text": [
      "train Loss: 0.4275 Acc: 0.8189\n",
      "Per-class Accuracy:\n",
      "0.0: 0.8883\n",
      "0.25: 0.8260\n",
      "0.5: 0.7431\n",
      "0.75: 0.7600\n",
      "1.0: 0.9739\n"
     ]
    },
    {
     "name": "stderr",
     "output_type": "stream",
     "text": [
      "                                                                               \r"
     ]
    },
    {
     "name": "stdout",
     "output_type": "stream",
     "text": [
      "val Loss: 0.3492 Acc: 0.8626\n",
      "Per-class Accuracy:\n",
      "0.0: 0.9092\n",
      "0.25: 0.8654\n",
      "0.5: 0.8014\n",
      "0.75: 0.8387\n",
      "1.0: 0.9787\n",
      "\n",
      "Epoch 3/29\n",
      "----------\n",
      "current_LR: 0.00000100\n"
     ]
    },
    {
     "name": "stderr",
     "output_type": "stream",
     "text": [
      "                                                                                  \r"
     ]
    },
    {
     "name": "stdout",
     "output_type": "stream",
     "text": [
      "train Loss: 0.4502 Acc: 0.8141\n",
      "Per-class Accuracy:\n",
      "0.0: 0.8859\n",
      "0.25: 0.8155\n",
      "0.5: 0.7381\n",
      "0.75: 0.7675\n",
      "1.0: 0.9540\n"
     ]
    },
    {
     "name": "stderr",
     "output_type": "stream",
     "text": [
      "                                                                              \r"
     ]
    },
    {
     "name": "stdout",
     "output_type": "stream",
     "text": [
      "val Loss: 0.4833 Acc: 0.7828\n",
      "Per-class Accuracy:\n",
      "0.0: 0.8221\n",
      "0.25: 0.7888\n",
      "0.5: 0.6200\n",
      "0.75: 0.9168\n",
      "1.0: 0.9628\n",
      "\n",
      "Epoch 4/29\n",
      "----------\n",
      "current_LR: 0.00128058\n"
     ]
    },
    {
     "name": "stderr",
     "output_type": "stream",
     "text": [
      "                                                                                  \r"
     ]
    },
    {
     "name": "stdout",
     "output_type": "stream",
     "text": [
      "train Loss: 0.4200 Acc: 0.8243\n",
      "Per-class Accuracy:\n",
      "0.0: 0.8918\n",
      "0.25: 0.8159\n",
      "0.5: 0.7530\n",
      "0.75: 0.7928\n",
      "1.0: 0.9727\n"
     ]
    },
    {
     "name": "stderr",
     "output_type": "stream",
     "text": [
      "                                                                               \r"
     ]
    },
    {
     "name": "stdout",
     "output_type": "stream",
     "text": [
      "val Loss: 0.3698 Acc: 0.8519\n",
      "Per-class Accuracy:\n",
      "0.0: 0.9007\n",
      "0.25: 0.8416\n",
      "0.5: 0.8034\n",
      "0.75: 0.8234\n",
      "1.0: 0.9840\n",
      "\n",
      "Epoch 5/29\n",
      "----------\n",
      "current_LR: 0.00075065\n"
     ]
    },
    {
     "name": "stderr",
     "output_type": "stream",
     "text": [
      "                                                                                  \r"
     ]
    },
    {
     "name": "stdout",
     "output_type": "stream",
     "text": [
      "train Loss: 0.2242 Acc: 0.9091\n",
      "Per-class Accuracy:\n",
      "0.0: 0.9485\n",
      "0.25: 0.9095\n",
      "0.5: 0.8692\n",
      "0.75: 0.8810\n",
      "1.0: 0.9863\n"
     ]
    },
    {
     "name": "stderr",
     "output_type": "stream",
     "text": [
      "                                                                               \r"
     ]
    },
    {
     "name": "stdout",
     "output_type": "stream",
     "text": [
      "val Loss: 0.2747 Acc: 0.8955\n",
      "Per-class Accuracy:\n",
      "0.0: 0.9129\n",
      "0.25: 0.8782\n",
      "0.5: 0.8952\n",
      "0.75: 0.8761\n",
      "1.0: 0.9681\n",
      "\n",
      "Epoch 6/29\n",
      "----------\n",
      "current_LR: 0.00022063\n"
     ]
    },
    {
     "name": "stderr",
     "output_type": "stream",
     "text": [
      "                                                                                  \r"
     ]
    },
    {
     "name": "stdout",
     "output_type": "stream",
     "text": [
      "train Loss: 0.0720 Acc: 0.9736\n",
      "Per-class Accuracy:\n",
      "0.0: 0.9867\n",
      "0.25: 0.9777\n",
      "0.5: 0.9622\n",
      "0.75: 0.9547\n",
      "1.0: 0.9963\n"
     ]
    },
    {
     "name": "stderr",
     "output_type": "stream",
     "text": [
      "                                                                               \r"
     ]
    },
    {
     "name": "stdout",
     "output_type": "stream",
     "text": [
      "val Loss: 0.2797 Acc: 0.9040\n",
      "Per-class Accuracy:\n",
      "0.0: 0.9326\n",
      "0.25: 0.8859\n",
      "0.5: 0.8821\n",
      "0.75: 0.9015\n",
      "1.0: 0.9787\n",
      "\n",
      "Epoch 7/29\n",
      "----------\n",
      "current_LR: 0.00000100\n"
     ]
    },
    {
     "name": "stderr",
     "output_type": "stream",
     "text": [
      "                                                                                  \r"
     ]
    },
    {
     "name": "stdout",
     "output_type": "stream",
     "text": [
      "train Loss: 0.3085 Acc: 0.8751\n",
      "Per-class Accuracy:\n",
      "0.0: 0.9215\n",
      "0.25: 0.8688\n",
      "0.5: 0.8309\n",
      "0.75: 0.8494\n",
      "1.0: 0.9714\n"
     ]
    },
    {
     "name": "stderr",
     "output_type": "stream",
     "text": [
      "                                                                              \r"
     ]
    },
    {
     "name": "stdout",
     "output_type": "stream",
     "text": [
      "val Loss: 0.5010 Acc: 0.8028\n",
      "Per-class Accuracy:\n",
      "0.0: 0.9485\n",
      "0.25: 0.7802\n",
      "0.5: 0.5938\n",
      "0.75: 0.8778\n",
      "1.0: 0.9840\n",
      "\n",
      "Epoch 8/29\n",
      "----------\n",
      "current_LR: 0.00108224\n"
     ]
    },
    {
     "name": "stderr",
     "output_type": "stream",
     "text": [
      "                                                                                  \r"
     ]
    },
    {
     "name": "stdout",
     "output_type": "stream",
     "text": [
      "train Loss: 0.2901 Acc: 0.8869\n",
      "Per-class Accuracy:\n",
      "0.0: 0.9291\n",
      "0.25: 0.8782\n",
      "0.5: 0.8507\n",
      "0.75: 0.8627\n",
      "1.0: 0.9752\n"
     ]
    },
    {
     "name": "stderr",
     "output_type": "stream",
     "text": [
      "                                                                               \r"
     ]
    },
    {
     "name": "stdout",
     "output_type": "stream",
     "text": [
      "val Loss: 0.4439 Acc: 0.8342\n",
      "Per-class Accuracy:\n",
      "0.0: 0.9026\n",
      "0.25: 0.7385\n",
      "0.5: 0.8831\n",
      "0.75: 0.7776\n",
      "1.0: 0.9628\n",
      "\n",
      "Epoch 9/29\n",
      "----------\n",
      "current_LR: 0.00096043\n"
     ]
    },
    {
     "name": "stderr",
     "output_type": "stream",
     "text": [
      "                                                                                  \r"
     ]
    },
    {
     "name": "stdout",
     "output_type": "stream",
     "text": [
      "train Loss: 0.2012 Acc: 0.9220\n",
      "Per-class Accuracy:\n",
      "0.0: 0.9492\n",
      "0.25: 0.9183\n",
      "0.5: 0.8890\n",
      "0.75: 0.9149\n",
      "1.0: 0.9851\n"
     ]
    },
    {
     "name": "stderr",
     "output_type": "stream",
     "text": [
      "                                                                               \r"
     ]
    },
    {
     "name": "stdout",
     "output_type": "stream",
     "text": [
      "val Loss: 0.3235 Acc: 0.8811\n",
      "Per-class Accuracy:\n",
      "0.0: 0.9326\n",
      "0.25: 0.8373\n",
      "0.5: 0.8851\n",
      "0.75: 0.8455\n",
      "1.0: 0.9521\n",
      "\n",
      "Epoch 10/29\n",
      "----------\n",
      "current_LR: 0.00077812\n"
     ]
    },
    {
     "name": "stderr",
     "output_type": "stream",
     "text": [
      "                                                                                   \r"
     ]
    },
    {
     "name": "stdout",
     "output_type": "stream",
     "text": [
      "train Loss: 0.1226 Acc: 0.9536\n",
      "Per-class Accuracy:\n",
      "0.0: 0.9701\n",
      "0.25: 0.9505\n",
      "0.5: 0.9351\n",
      "0.75: 0.9493\n",
      "1.0: 0.9913\n"
     ]
    },
    {
     "name": "stderr",
     "output_type": "stream",
     "text": [
      "                                                                                \r"
     ]
    },
    {
     "name": "stdout",
     "output_type": "stream",
     "text": [
      "val Loss: 0.3823 Acc: 0.8808\n",
      "Per-class Accuracy:\n",
      "0.0: 0.8951\n",
      "0.25: 0.8254\n",
      "0.5: 0.9163\n",
      "0.75: 0.8812\n",
      "1.0: 0.9574\n",
      "\n",
      "Epoch 11/29\n",
      "----------\n",
      "current_LR: 0.00056306\n"
     ]
    },
    {
     "name": "stderr",
     "output_type": "stream",
     "text": [
      "                                                                                   \r"
     ]
    },
    {
     "name": "stdout",
     "output_type": "stream",
     "text": [
      "train Loss: 0.0578 Acc: 0.9784\n",
      "Per-class Accuracy:\n",
      "0.0: 0.9894\n",
      "0.25: 0.9775\n",
      "0.5: 0.9674\n",
      "0.75: 0.9731\n",
      "1.0: 0.9963\n"
     ]
    },
    {
     "name": "stderr",
     "output_type": "stream",
     "text": [
      "                                                                                \r"
     ]
    },
    {
     "name": "stdout",
     "output_type": "stream",
     "text": [
      "val Loss: 0.3637 Acc: 0.9000\n",
      "Per-class Accuracy:\n",
      "0.0: 0.9513\n",
      "0.25: 0.8322\n",
      "0.5: 0.9113\n",
      "0.75: 0.9032\n",
      "1.0: 0.9628\n",
      "\n",
      "Epoch 12/29\n",
      "----------\n",
      "current_LR: 0.00034798\n"
     ]
    },
    {
     "name": "stderr",
     "output_type": "stream",
     "text": [
      "                                                                                   \r"
     ]
    },
    {
     "name": "stdout",
     "output_type": "stream",
     "text": [
      "train Loss: 0.0116 Acc: 0.9966\n",
      "Per-class Accuracy:\n",
      "0.0: 0.9958\n",
      "0.25: 0.9971\n",
      "0.5: 0.9961\n",
      "0.75: 0.9969\n",
      "1.0: 0.9988\n"
     ]
    },
    {
     "name": "stderr",
     "output_type": "stream",
     "text": [
      "                                                                                \r"
     ]
    },
    {
     "name": "stdout",
     "output_type": "stream",
     "text": [
      "val Loss: 0.4374 Acc: 0.9068\n",
      "Per-class Accuracy:\n",
      "0.0: 0.9363\n",
      "0.25: 0.8816\n",
      "0.5: 0.8629\n",
      "0.75: 0.9542\n",
      "1.0: 0.9787\n",
      "\n",
      "Epoch 13/29\n",
      "----------\n",
      "current_LR: 0.00016564\n"
     ]
    },
    {
     "name": "stderr",
     "output_type": "stream",
     "text": [
      "                                                                                   \r"
     ]
    },
    {
     "name": "stdout",
     "output_type": "stream",
     "text": [
      "train Loss: 0.0021 Acc: 0.9996\n",
      "Per-class Accuracy:\n",
      "0.0: 0.9995\n",
      "0.25: 0.9998\n",
      "0.5: 0.9995\n",
      "0.75: 0.9996\n",
      "1.0: 1.0000\n"
     ]
    },
    {
     "name": "stderr",
     "output_type": "stream",
     "text": [
      "                                                                                 \r"
     ]
    },
    {
     "name": "stdout",
     "output_type": "stream",
     "text": [
      "val Loss: 0.3804 Acc: 0.9200\n",
      "Per-class Accuracy:\n",
      "0.0: 0.9279\n",
      "0.25: 0.9063\n",
      "0.5: 0.9123\n",
      "0.75: 0.9253\n",
      "1.0: 0.9840\n",
      "\n",
      "Epoch 14/29\n",
      "----------\n",
      "current_LR: 0.00004380\n"
     ]
    },
    {
     "name": "stderr",
     "output_type": "stream",
     "text": [
      "                                                                                   \r"
     ]
    },
    {
     "name": "stdout",
     "output_type": "stream",
     "text": [
      "train Loss: 0.0009 Acc: 0.9999\n",
      "Per-class Accuracy:\n",
      "0.0: 0.9998\n",
      "0.25: 1.0000\n",
      "0.5: 1.0000\n",
      "0.75: 1.0000\n",
      "1.0: 1.0000\n"
     ]
    },
    {
     "name": "stderr",
     "output_type": "stream",
     "text": [
      "                                                                                 \r"
     ]
    },
    {
     "name": "stdout",
     "output_type": "stream",
     "text": [
      "val Loss: 0.3832 Acc: 0.9202\n",
      "Per-class Accuracy:\n",
      "0.0: 0.9288\n",
      "0.25: 0.9063\n",
      "0.5: 0.9123\n",
      "0.75: 0.9253\n",
      "1.0: 0.9840\n",
      "\n",
      "Epoch 15/29\n",
      "----------\n",
      "current_LR: 0.00000100\n"
     ]
    },
    {
     "name": "stderr",
     "output_type": "stream",
     "text": [
      "                                                                                   \r"
     ]
    },
    {
     "name": "stdout",
     "output_type": "stream",
     "text": [
      "train Loss: 0.0263 Acc: 0.9918\n",
      "Per-class Accuracy:\n",
      "0.0: 0.9951\n",
      "0.25: 0.9920\n",
      "0.5: 0.9893\n",
      "0.75: 0.9879\n",
      "1.0: 0.9975\n"
     ]
    },
    {
     "name": "stderr",
     "output_type": "stream",
     "text": [
      "                                                                                \r"
     ]
    },
    {
     "name": "stdout",
     "output_type": "stream",
     "text": [
      "val Loss: 0.7083 Acc: 0.8038\n",
      "Per-class Accuracy:\n",
      "0.0: 0.9719\n",
      "0.25: 0.6465\n",
      "0.5: 0.7369\n",
      "0.75: 0.8693\n",
      "1.0: 0.9787\n",
      "\n",
      "Epoch 16/29\n",
      "----------\n",
      "current_LR: 0.00083566\n"
     ]
    },
    {
     "name": "stderr",
     "output_type": "stream",
     "text": [
      "                                                                                   \r"
     ]
    },
    {
     "name": "stdout",
     "output_type": "stream",
     "text": [
      "train Loss: 0.1493 Acc: 0.9448\n",
      "Per-class Accuracy:\n",
      "0.0: 0.9644\n",
      "0.25: 0.9404\n",
      "0.5: 0.9257\n",
      "0.75: 0.9391\n",
      "1.0: 0.9801\n"
     ]
    },
    {
     "name": "stderr",
     "output_type": "stream",
     "text": [
      "                                                                                \r"
     ]
    },
    {
     "name": "stdout",
     "output_type": "stream",
     "text": [
      "val Loss: 0.6488 Acc: 0.8128\n",
      "Per-class Accuracy:\n",
      "0.0: 0.8586\n",
      "0.25: 0.9216\n",
      "0.5: 0.7288\n",
      "0.75: 0.6061\n",
      "1.0: 0.9628\n",
      "\n",
      "Epoch 17/29\n",
      "----------\n",
      "current_LR: 0.00081168\n"
     ]
    },
    {
     "name": "stderr",
     "output_type": "stream",
     "text": [
      "                                                                                   \r"
     ]
    },
    {
     "name": "stdout",
     "output_type": "stream",
     "text": [
      "train Loss: 0.1212 Acc: 0.9559\n",
      "Per-class Accuracy:\n",
      "0.0: 0.9720\n",
      "0.25: 0.9523\n",
      "0.5: 0.9388\n",
      "0.75: 0.9512\n",
      "1.0: 0.9913\n"
     ]
    },
    {
     "name": "stderr",
     "output_type": "stream",
     "text": [
      "                                                                                \r"
     ]
    },
    {
     "name": "stdout",
     "output_type": "stream",
     "text": [
      "val Loss: 0.3932 Acc: 0.8746\n",
      "Per-class Accuracy:\n",
      "0.0: 0.8961\n",
      "0.25: 0.8007\n",
      "0.5: 0.8770\n",
      "0.75: 0.9559\n",
      "1.0: 0.9468\n",
      "\n",
      "Epoch 18/29\n",
      "----------\n",
      "current_LR: 0.00077275\n"
     ]
    },
    {
     "name": "stderr",
     "output_type": "stream",
     "text": [
      "                                                                                   \r"
     ]
    },
    {
     "name": "stdout",
     "output_type": "stream",
     "text": [
      "train Loss: 0.0859 Acc: 0.9692\n",
      "Per-class Accuracy:\n",
      "0.0: 0.9777\n",
      "0.25: 0.9662\n",
      "0.5: 0.9601\n",
      "0.75: 0.9668\n",
      "1.0: 0.9950\n"
     ]
    },
    {
     "name": "stderr",
     "output_type": "stream",
     "text": [
      "                                                                                \r"
     ]
    },
    {
     "name": "stdout",
     "output_type": "stream",
     "text": [
      "val Loss: 0.4833 Acc: 0.8414\n",
      "Per-class Accuracy:\n",
      "0.0: 0.9326\n",
      "0.25: 0.8015\n",
      "0.5: 0.6976\n",
      "0.75: 0.9525\n",
      "1.0: 0.9840\n",
      "\n",
      "Epoch 19/29\n",
      "----------\n",
      "current_LR: 0.00072035\n"
     ]
    },
    {
     "name": "stderr",
     "output_type": "stream",
     "text": [
      "                                                                                   \r"
     ]
    },
    {
     "name": "stdout",
     "output_type": "stream",
     "text": [
      "train Loss: 0.0628 Acc: 0.9792\n",
      "Per-class Accuracy:\n",
      "0.0: 0.9843\n",
      "0.25: 0.9771\n",
      "0.5: 0.9739\n",
      "0.75: 0.9785\n",
      "1.0: 0.9925\n"
     ]
    },
    {
     "name": "stderr",
     "output_type": "stream",
     "text": [
      "                                                                                \r"
     ]
    },
    {
     "name": "stdout",
     "output_type": "stream",
     "text": [
      "val Loss: 0.3902 Acc: 0.8881\n",
      "Per-class Accuracy:\n",
      "0.0: 0.9448\n",
      "0.25: 0.8390\n",
      "0.5: 0.8458\n",
      "0.75: 0.9253\n",
      "1.0: 0.9787\n",
      "\n",
      "Epoch 20/29\n",
      "----------\n",
      "current_LR: 0.00065650\n"
     ]
    },
    {
     "name": "stderr",
     "output_type": "stream",
     "text": [
      "                                                                                   \r"
     ]
    },
    {
     "name": "stdout",
     "output_type": "stream",
     "text": [
      "train Loss: 0.0435 Acc: 0.9853\n",
      "Per-class Accuracy:\n",
      "0.0: 0.9921\n",
      "0.25: 0.9838\n",
      "0.5: 0.9792\n",
      "0.75: 0.9828\n",
      "1.0: 0.9963\n"
     ]
    },
    {
     "name": "stderr",
     "output_type": "stream",
     "text": [
      "                                                                                 \r"
     ]
    },
    {
     "name": "stdout",
     "output_type": "stream",
     "text": [
      "val Loss: 0.4208 Acc: 0.8933\n",
      "Per-class Accuracy:\n",
      "0.0: 0.9316\n",
      "0.25: 0.8825\n",
      "0.5: 0.8065\n",
      "0.75: 0.9626\n",
      "1.0: 0.9840\n",
      "\n",
      "Epoch 21/29\n",
      "----------\n",
      "current_LR: 0.00058365\n"
     ]
    },
    {
     "name": "stderr",
     "output_type": "stream",
     "text": [
      "                                                                                   \r"
     ]
    },
    {
     "name": "stdout",
     "output_type": "stream",
     "text": [
      "train Loss: 0.0258 Acc: 0.9911\n",
      "Per-class Accuracy:\n",
      "0.0: 0.9963\n",
      "0.25: 0.9912\n",
      "0.5: 0.9854\n",
      "0.75: 0.9891\n",
      "1.0: 0.9988\n"
     ]
    },
    {
     "name": "stderr",
     "output_type": "stream",
     "text": [
      "                                                                                 \r"
     ]
    },
    {
     "name": "stdout",
     "output_type": "stream",
     "text": [
      "val Loss: 0.4024 Acc: 0.9045\n",
      "Per-class Accuracy:\n",
      "0.0: 0.9232\n",
      "0.25: 0.8893\n",
      "0.5: 0.8770\n",
      "0.75: 0.9270\n",
      "1.0: 0.9681\n",
      "\n",
      "Epoch 22/29\n",
      "----------\n",
      "current_LR: 0.00050460\n"
     ]
    },
    {
     "name": "stderr",
     "output_type": "stream",
     "text": [
      "                                                                                   \r"
     ]
    },
    {
     "name": "stdout",
     "output_type": "stream",
     "text": [
      "train Loss: 0.0150 Acc: 0.9954\n",
      "Per-class Accuracy:\n",
      "0.0: 0.9978\n",
      "0.25: 0.9950\n",
      "0.5: 0.9922\n",
      "0.75: 0.9961\n",
      "1.0: 1.0000\n"
     ]
    },
    {
     "name": "stderr",
     "output_type": "stream",
     "text": [
      "                                                                                 \r"
     ]
    },
    {
     "name": "stdout",
     "output_type": "stream",
     "text": [
      "val Loss: 0.4184 Acc: 0.9060\n",
      "Per-class Accuracy:\n",
      "0.0: 0.9391\n",
      "0.25: 0.8663\n",
      "0.5: 0.8750\n",
      "0.75: 0.9542\n",
      "1.0: 0.9787\n",
      "\n",
      "Epoch 23/29\n",
      "----------\n",
      "current_LR: 0.00042240\n"
     ]
    },
    {
     "name": "stderr",
     "output_type": "stream",
     "text": [
      "                                                                                   \r"
     ]
    },
    {
     "name": "stdout",
     "output_type": "stream",
     "text": [
      "train Loss: 0.0028 Acc: 0.9991\n",
      "Per-class Accuracy:\n",
      "0.0: 0.9995\n",
      "0.25: 0.9990\n",
      "0.5: 0.9984\n",
      "0.75: 0.9996\n",
      "1.0: 1.0000\n"
     ]
    },
    {
     "name": "stderr",
     "output_type": "stream",
     "text": [
      "                                                                                 \r"
     ]
    },
    {
     "name": "stdout",
     "output_type": "stream",
     "text": [
      "val Loss: 0.4350 Acc: 0.9150\n",
      "Per-class Accuracy:\n",
      "0.0: 0.9251\n",
      "0.25: 0.8756\n",
      "0.5: 0.9224\n",
      "0.75: 0.9406\n",
      "1.0: 0.9840\n",
      "\n",
      "Epoch 24/29\n",
      "----------\n",
      "current_LR: 0.00034019\n"
     ]
    },
    {
     "name": "stderr",
     "output_type": "stream",
     "text": [
      "                                                                                   \r"
     ]
    },
    {
     "name": "stdout",
     "output_type": "stream",
     "text": [
      "train Loss: 0.0003 Acc: 1.0000\n",
      "Per-class Accuracy:\n",
      "0.0: 1.0000\n",
      "0.25: 1.0000\n",
      "0.5: 1.0000\n",
      "0.75: 1.0000\n",
      "1.0: 1.0000\n"
     ]
    },
    {
     "name": "stderr",
     "output_type": "stream",
     "text": [
      "                                                                                \r"
     ]
    },
    {
     "name": "stdout",
     "output_type": "stream",
     "text": [
      "val Loss: 0.4056 Acc: 0.9222\n",
      "Per-class Accuracy:\n",
      "0.0: 0.9326\n",
      "0.25: 0.8969\n",
      "0.5: 0.9194\n",
      "0.75: 0.9389\n",
      "1.0: 0.9840\n",
      "\n",
      "Epoch 25/29\n",
      "----------\n",
      "current_LR: 0.00026114\n"
     ]
    },
    {
     "name": "stderr",
     "output_type": "stream",
     "text": [
      "                                                                                   \r"
     ]
    },
    {
     "name": "stdout",
     "output_type": "stream",
     "text": [
      "train Loss: 0.0001 Acc: 1.0000\n",
      "Per-class Accuracy:\n",
      "0.0: 1.0000\n",
      "0.25: 1.0000\n",
      "0.5: 1.0000\n",
      "0.75: 1.0000\n",
      "1.0: 1.0000\n"
     ]
    },
    {
     "name": "stderr",
     "output_type": "stream",
     "text": [
      "                                                                                \r"
     ]
    },
    {
     "name": "stdout",
     "output_type": "stream",
     "text": [
      "val Loss: 0.4065 Acc: 0.9210\n",
      "Per-class Accuracy:\n",
      "0.0: 0.9232\n",
      "0.25: 0.9012\n",
      "0.5: 0.9194\n",
      "0.75: 0.9389\n",
      "1.0: 0.9840\n",
      "\n",
      "Epoch 26/29\n",
      "----------\n",
      "current_LR: 0.00018829\n"
     ]
    },
    {
     "name": "stderr",
     "output_type": "stream",
     "text": [
      "                                                                                   \r"
     ]
    },
    {
     "name": "stdout",
     "output_type": "stream",
     "text": [
      "train Loss: 0.0001 Acc: 1.0000\n",
      "Per-class Accuracy:\n",
      "0.0: 1.0000\n",
      "0.25: 1.0000\n",
      "0.5: 1.0000\n",
      "0.75: 1.0000\n",
      "1.0: 1.0000\n"
     ]
    },
    {
     "name": "stderr",
     "output_type": "stream",
     "text": [
      "                                                                                \r"
     ]
    },
    {
     "name": "stdout",
     "output_type": "stream",
     "text": [
      "val Loss: 0.4089 Acc: 0.9212\n",
      "Per-class Accuracy:\n",
      "0.0: 0.9232\n",
      "0.25: 0.9029\n",
      "0.5: 0.9194\n",
      "0.75: 0.9372\n",
      "1.0: 0.9840\n",
      "\n",
      "Epoch 27/29\n",
      "----------\n",
      "current_LR: 0.00012443\n"
     ]
    },
    {
     "name": "stderr",
     "output_type": "stream",
     "text": [
      "                                                                                   \r"
     ]
    },
    {
     "name": "stdout",
     "output_type": "stream",
     "text": [
      "train Loss: 0.0001 Acc: 1.0000\n",
      "Per-class Accuracy:\n",
      "0.0: 1.0000\n",
      "0.25: 1.0000\n",
      "0.5: 1.0000\n",
      "0.75: 1.0000\n",
      "1.0: 1.0000\n"
     ]
    },
    {
     "name": "stderr",
     "output_type": "stream",
     "text": [
      "                                                                                 \r"
     ]
    },
    {
     "name": "stdout",
     "output_type": "stream",
     "text": [
      "val Loss: 0.4103 Acc: 0.9210\n",
      "Per-class Accuracy:\n",
      "0.0: 0.9232\n",
      "0.25: 0.9020\n",
      "0.5: 0.9194\n",
      "0.75: 0.9372\n",
      "1.0: 0.9840\n",
      "\n",
      "Epoch 28/29\n",
      "----------\n",
      "current_LR: 0.00007203\n"
     ]
    },
    {
     "name": "stderr",
     "output_type": "stream",
     "text": [
      "                                                                                   \r"
     ]
    },
    {
     "name": "stdout",
     "output_type": "stream",
     "text": [
      "train Loss: 0.0001 Acc: 1.0000\n",
      "Per-class Accuracy:\n",
      "0.0: 1.0000\n",
      "0.25: 1.0000\n",
      "0.5: 1.0000\n",
      "0.75: 1.0000\n",
      "1.0: 1.0000\n"
     ]
    },
    {
     "name": "stderr",
     "output_type": "stream",
     "text": [
      "                                                                                 \r"
     ]
    },
    {
     "name": "stdout",
     "output_type": "stream",
     "text": [
      "val Loss: 0.4110 Acc: 0.9212\n",
      "Per-class Accuracy:\n",
      "0.0: 0.9232\n",
      "0.25: 0.9020\n",
      "0.5: 0.9204\n",
      "0.75: 0.9372\n",
      "1.0: 0.9840\n",
      "\n",
      "Epoch 29/29\n",
      "----------\n",
      "current_LR: 0.00003308\n"
     ]
    },
    {
     "name": "stderr",
     "output_type": "stream",
     "text": [
      "                                                                                   \r"
     ]
    },
    {
     "name": "stdout",
     "output_type": "stream",
     "text": [
      "train Loss: 0.0001 Acc: 1.0000\n",
      "Per-class Accuracy:\n",
      "0.0: 1.0000\n",
      "0.25: 1.0000\n",
      "0.5: 1.0000\n",
      "0.75: 1.0000\n",
      "1.0: 1.0000\n"
     ]
    },
    {
     "name": "stderr",
     "output_type": "stream",
     "text": [
      "                                                                                 \r"
     ]
    },
    {
     "name": "stdout",
     "output_type": "stream",
     "text": [
      "val Loss: 0.4111 Acc: 0.9212\n",
      "Per-class Accuracy:\n",
      "0.0: 0.9232\n",
      "0.25: 0.9020\n",
      "0.5: 0.9204\n",
      "0.75: 0.9372\n",
      "1.0: 0.9840\n",
      "\n",
      "Training complete in 570m 34s\n",
      "Best val Acc: 0.922214\n"
     ]
    }
   ],
   "source": [
    "#use this function is running a new experiment\n",
    "# for different experiemnts, just copy and paste this below code, after making changes in the experiment yaml and run it\n",
    "\n",
    "Base_configurations_raw = init_base_config()\n",
    "Base_configurations = load_experiment_config(Base_configurations_raw,loc = 'utils/Experiments.yaml',experiment_name = 'Cos_S_1')\n",
    "\n",
    "\n",
    "if Base_configurations['first_run']:\n",
    "        \n",
    "    #running_dataloader\n",
    "    (dataloaders,dataset_sizes,\n",
    "     device,inputs,\n",
    "     merged_dataset, image_datasets, \n",
    "     class_names,data_transforms) = handle_data(Base_configurations,sub_folders,DATA_DIR=DATA_DIR,seed = 1000,\n",
    "                                        SUBSET_SIZE=SUBSET_SIZE,USE_SUBSET=USE_SUBSET,EXCLUDE=EXCLUDE,train_ratio=0.8,\n",
    "                                       batch_size=batch_size,shuffle=True,num_workers=0\n",
    "                                       )\n",
    "    \n",
    "    \n",
    "    \n",
    "    (model,param_groups, criterion,\n",
    "     optimizer,optimizer_ft,\n",
    "      exp_lr_scheduler, model_type, hparams) = set_experiment_model(Base_configurations,device,NUM_EPOCHS,dropout\n",
    "                                                                    ,batch_size,model=None,use_existing_model=False)\n",
    "\n",
    "    model,param_dict,writer =   run_model_fine_tuning(SUBSET_SIZE,model_type,hparams,model,criterion,optimizer_ft,exp_lr_scheduler,\n",
    "                                  dataloaders,device,dataset_sizes,class_names,\n",
    "\n",
    "                                  num_epochs=NUM_EPOCHS\n",
    "                                  ,epoch_start=epoch_start, writer = None, use_prior_writer= False, \n",
    "                                  return_writer = True, misc = ''\n",
    "\n",
    "\n",
    "                                 )  "
   ]
  },
  {
   "cell_type": "code",
   "execution_count": null,
   "metadata": {
    "tags": []
   },
   "outputs": [
    {
     "data": {
      "text/plain": [
       "{'readings': {'train_accuracy': [tensor(0.5615, device='cuda:0', dtype=torch.float64),\n",
       "   tensor(0.6601, device='cuda:0', dtype=torch.float64),\n",
       "   tensor(0.8189, device='cuda:0', dtype=torch.float64),\n",
       "   tensor(0.8141, device='cuda:0', dtype=torch.float64),\n",
       "   tensor(0.8243, device='cuda:0', dtype=torch.float64),\n",
       "   tensor(0.9091, device='cuda:0', dtype=torch.float64),\n",
       "   tensor(0.9736, device='cuda:0', dtype=torch.float64),\n",
       "   tensor(0.8751, device='cuda:0', dtype=torch.float64),\n",
       "   tensor(0.8869, device='cuda:0', dtype=torch.float64),\n",
       "   tensor(0.9220, device='cuda:0', dtype=torch.float64),\n",
       "   tensor(0.9536, device='cuda:0', dtype=torch.float64),\n",
       "   tensor(0.9784, device='cuda:0', dtype=torch.float64),\n",
       "   tensor(0.9966, device='cuda:0', dtype=torch.float64),\n",
       "   tensor(0.9996, device='cuda:0', dtype=torch.float64),\n",
       "   tensor(0.9999, device='cuda:0', dtype=torch.float64),\n",
       "   tensor(0.9918, device='cuda:0', dtype=torch.float64),\n",
       "   tensor(0.9448, device='cuda:0', dtype=torch.float64),\n",
       "   tensor(0.9559, device='cuda:0', dtype=torch.float64),\n",
       "   tensor(0.9692, device='cuda:0', dtype=torch.float64),\n",
       "   tensor(0.9792, device='cuda:0', dtype=torch.float64),\n",
       "   tensor(0.9853, device='cuda:0', dtype=torch.float64),\n",
       "   tensor(0.9911, device='cuda:0', dtype=torch.float64),\n",
       "   tensor(0.9954, device='cuda:0', dtype=torch.float64),\n",
       "   tensor(0.9991, device='cuda:0', dtype=torch.float64),\n",
       "   tensor(1.0000, device='cuda:0', dtype=torch.float64),\n",
       "   tensor(1.0000, device='cuda:0', dtype=torch.float64),\n",
       "   tensor(1.0000, device='cuda:0', dtype=torch.float64),\n",
       "   tensor(1.0000, device='cuda:0', dtype=torch.float64),\n",
       "   tensor(1.0000, device='cuda:0', dtype=torch.float64),\n",
       "   tensor(1.0000, device='cuda:0', dtype=torch.float64)],\n",
       "  'train_loss': [0.9759850404515258,\n",
       "   0.7724318922723327,\n",
       "   0.42747055778024123,\n",
       "   0.45019395405637985,\n",
       "   0.41995871410185326,\n",
       "   0.22424942154436264,\n",
       "   0.07199977520177209,\n",
       "   0.308539715275889,\n",
       "   0.29008829343323783,\n",
       "   0.20121895303232973,\n",
       "   0.1225679035419675,\n",
       "   0.057837292444447026,\n",
       "   0.011573988261061109,\n",
       "   0.002108903599675906,\n",
       "   0.0009443259713100707,\n",
       "   0.026295550330130976,\n",
       "   0.14934153445249998,\n",
       "   0.12116253251301642,\n",
       "   0.085882032857045,\n",
       "   0.06281577847456316,\n",
       "   0.043509204801299925,\n",
       "   0.025838930164775092,\n",
       "   0.015032998798478163,\n",
       "   0.002824672726595978,\n",
       "   0.00027427185936204217,\n",
       "   7.945656217766349e-05,\n",
       "   6.204815943164391e-05,\n",
       "   5.5727644967469206e-05,\n",
       "   5.290667894946057e-05,\n",
       "   5.1812101805017586e-05],\n",
       "  'val_accuracy': [tensor(0.5467, device='cuda:0', dtype=torch.float64),\n",
       "   tensor(0.7602, device='cuda:0', dtype=torch.float64),\n",
       "   tensor(0.8626, device='cuda:0', dtype=torch.float64),\n",
       "   tensor(0.7828, device='cuda:0', dtype=torch.float64),\n",
       "   tensor(0.8519, device='cuda:0', dtype=torch.float64),\n",
       "   tensor(0.8955, device='cuda:0', dtype=torch.float64),\n",
       "   tensor(0.9040, device='cuda:0', dtype=torch.float64),\n",
       "   tensor(0.8028, device='cuda:0', dtype=torch.float64),\n",
       "   tensor(0.8342, device='cuda:0', dtype=torch.float64),\n",
       "   tensor(0.8811, device='cuda:0', dtype=torch.float64),\n",
       "   tensor(0.8808, device='cuda:0', dtype=torch.float64),\n",
       "   tensor(0.9000, device='cuda:0', dtype=torch.float64),\n",
       "   tensor(0.9068, device='cuda:0', dtype=torch.float64),\n",
       "   tensor(0.9200, device='cuda:0', dtype=torch.float64),\n",
       "   tensor(0.9202, device='cuda:0', dtype=torch.float64),\n",
       "   tensor(0.8038, device='cuda:0', dtype=torch.float64),\n",
       "   tensor(0.8128, device='cuda:0', dtype=torch.float64),\n",
       "   tensor(0.8746, device='cuda:0', dtype=torch.float64),\n",
       "   tensor(0.8414, device='cuda:0', dtype=torch.float64),\n",
       "   tensor(0.8881, device='cuda:0', dtype=torch.float64),\n",
       "   tensor(0.8933, device='cuda:0', dtype=torch.float64),\n",
       "   tensor(0.9045, device='cuda:0', dtype=torch.float64),\n",
       "   tensor(0.9060, device='cuda:0', dtype=torch.float64),\n",
       "   tensor(0.9150, device='cuda:0', dtype=torch.float64),\n",
       "   tensor(0.9222, device='cuda:0', dtype=torch.float64),\n",
       "   tensor(0.9210, device='cuda:0', dtype=torch.float64),\n",
       "   tensor(0.9212, device='cuda:0', dtype=torch.float64),\n",
       "   tensor(0.9210, device='cuda:0', dtype=torch.float64),\n",
       "   tensor(0.9212, device='cuda:0', dtype=torch.float64),\n",
       "   tensor(0.9212, device='cuda:0', dtype=torch.float64)],\n",
       "  'val_loss': [1.0335596066903545,\n",
       "   0.5661918400015707,\n",
       "   0.34920168810382873,\n",
       "   0.4832842327383626,\n",
       "   0.36983282837229153,\n",
       "   0.27473141590051414,\n",
       "   0.2796948431260876,\n",
       "   0.50099160576718,\n",
       "   0.44387701523431156,\n",
       "   0.32348213789445784,\n",
       "   0.38233227753260984,\n",
       "   0.36368516612289636,\n",
       "   0.4374316148935312,\n",
       "   0.3803612184645024,\n",
       "   0.3832381027906146,\n",
       "   0.708334923487481,\n",
       "   0.64876563785759,\n",
       "   0.3931951291571674,\n",
       "   0.483311571731894,\n",
       "   0.3901853415113988,\n",
       "   0.42080178896909387,\n",
       "   0.4023574796737756,\n",
       "   0.41835341527259534,\n",
       "   0.43503394923175126,\n",
       "   0.40556020613440813,\n",
       "   0.40649758826757487,\n",
       "   0.4089471703368029,\n",
       "   0.41032585073593447,\n",
       "   0.4109675143266272,\n",
       "   0.41111079141548423],\n",
       "  '0.0': [tensor(0.8493, device='cuda:0', dtype=torch.float64),\n",
       "   tensor(0.8933, device='cuda:0', dtype=torch.float64),\n",
       "   tensor(0.9092, device='cuda:0', dtype=torch.float64),\n",
       "   tensor(0.8221, device='cuda:0', dtype=torch.float64),\n",
       "   tensor(0.9007, device='cuda:0', dtype=torch.float64),\n",
       "   tensor(0.9129, device='cuda:0', dtype=torch.float64),\n",
       "   tensor(0.9326, device='cuda:0', dtype=torch.float64),\n",
       "   tensor(0.9485, device='cuda:0', dtype=torch.float64),\n",
       "   tensor(0.9026, device='cuda:0', dtype=torch.float64),\n",
       "   tensor(0.9326, device='cuda:0', dtype=torch.float64),\n",
       "   tensor(0.8951, device='cuda:0', dtype=torch.float64),\n",
       "   tensor(0.9513, device='cuda:0', dtype=torch.float64),\n",
       "   tensor(0.9363, device='cuda:0', dtype=torch.float64),\n",
       "   tensor(0.9279, device='cuda:0', dtype=torch.float64),\n",
       "   tensor(0.9288, device='cuda:0', dtype=torch.float64),\n",
       "   tensor(0.9719, device='cuda:0', dtype=torch.float64),\n",
       "   tensor(0.8586, device='cuda:0', dtype=torch.float64),\n",
       "   tensor(0.8961, device='cuda:0', dtype=torch.float64),\n",
       "   tensor(0.9326, device='cuda:0', dtype=torch.float64),\n",
       "   tensor(0.9448, device='cuda:0', dtype=torch.float64),\n",
       "   tensor(0.9316, device='cuda:0', dtype=torch.float64),\n",
       "   tensor(0.9232, device='cuda:0', dtype=torch.float64),\n",
       "   tensor(0.9391, device='cuda:0', dtype=torch.float64),\n",
       "   tensor(0.9251, device='cuda:0', dtype=torch.float64),\n",
       "   tensor(0.9326, device='cuda:0', dtype=torch.float64),\n",
       "   tensor(0.9232, device='cuda:0', dtype=torch.float64),\n",
       "   tensor(0.9232, device='cuda:0', dtype=torch.float64),\n",
       "   tensor(0.9232, device='cuda:0', dtype=torch.float64),\n",
       "   tensor(0.9232, device='cuda:0', dtype=torch.float64),\n",
       "   tensor(0.9232, device='cuda:0', dtype=torch.float64)],\n",
       "  '0.25': [tensor(0.5852, device='cuda:0', dtype=torch.float64),\n",
       "   tensor(0.6567, device='cuda:0', dtype=torch.float64),\n",
       "   tensor(0.8654, device='cuda:0', dtype=torch.float64),\n",
       "   tensor(0.7888, device='cuda:0', dtype=torch.float64),\n",
       "   tensor(0.8416, device='cuda:0', dtype=torch.float64),\n",
       "   tensor(0.8782, device='cuda:0', dtype=torch.float64),\n",
       "   tensor(0.8859, device='cuda:0', dtype=torch.float64),\n",
       "   tensor(0.7802, device='cuda:0', dtype=torch.float64),\n",
       "   tensor(0.7385, device='cuda:0', dtype=torch.float64),\n",
       "   tensor(0.8373, device='cuda:0', dtype=torch.float64),\n",
       "   tensor(0.8254, device='cuda:0', dtype=torch.float64),\n",
       "   tensor(0.8322, device='cuda:0', dtype=torch.float64),\n",
       "   tensor(0.8816, device='cuda:0', dtype=torch.float64),\n",
       "   tensor(0.9063, device='cuda:0', dtype=torch.float64),\n",
       "   tensor(0.9063, device='cuda:0', dtype=torch.float64),\n",
       "   tensor(0.6465, device='cuda:0', dtype=torch.float64),\n",
       "   tensor(0.9216, device='cuda:0', dtype=torch.float64),\n",
       "   tensor(0.8007, device='cuda:0', dtype=torch.float64),\n",
       "   tensor(0.8015, device='cuda:0', dtype=torch.float64),\n",
       "   tensor(0.8390, device='cuda:0', dtype=torch.float64),\n",
       "   tensor(0.8825, device='cuda:0', dtype=torch.float64),\n",
       "   tensor(0.8893, device='cuda:0', dtype=torch.float64),\n",
       "   tensor(0.8663, device='cuda:0', dtype=torch.float64),\n",
       "   tensor(0.8756, device='cuda:0', dtype=torch.float64),\n",
       "   tensor(0.8969, device='cuda:0', dtype=torch.float64),\n",
       "   tensor(0.9012, device='cuda:0', dtype=torch.float64),\n",
       "   tensor(0.9029, device='cuda:0', dtype=torch.float64),\n",
       "   tensor(0.9020, device='cuda:0', dtype=torch.float64),\n",
       "   tensor(0.9020, device='cuda:0', dtype=torch.float64),\n",
       "   tensor(0.9020, device='cuda:0', dtype=torch.float64)],\n",
       "  '0.5': [tensor(0.1744, device='cuda:0', dtype=torch.float64),\n",
       "   tensor(0.7883, device='cuda:0', dtype=torch.float64),\n",
       "   tensor(0.8014, device='cuda:0', dtype=torch.float64),\n",
       "   tensor(0.6200, device='cuda:0', dtype=torch.float64),\n",
       "   tensor(0.8034, device='cuda:0', dtype=torch.float64),\n",
       "   tensor(0.8952, device='cuda:0', dtype=torch.float64),\n",
       "   tensor(0.8821, device='cuda:0', dtype=torch.float64),\n",
       "   tensor(0.5938, device='cuda:0', dtype=torch.float64),\n",
       "   tensor(0.8831, device='cuda:0', dtype=torch.float64),\n",
       "   tensor(0.8851, device='cuda:0', dtype=torch.float64),\n",
       "   tensor(0.9163, device='cuda:0', dtype=torch.float64),\n",
       "   tensor(0.9113, device='cuda:0', dtype=torch.float64),\n",
       "   tensor(0.8629, device='cuda:0', dtype=torch.float64),\n",
       "   tensor(0.9123, device='cuda:0', dtype=torch.float64),\n",
       "   tensor(0.9123, device='cuda:0', dtype=torch.float64),\n",
       "   tensor(0.7369, device='cuda:0', dtype=torch.float64),\n",
       "   tensor(0.7288, device='cuda:0', dtype=torch.float64),\n",
       "   tensor(0.8770, device='cuda:0', dtype=torch.float64),\n",
       "   tensor(0.6976, device='cuda:0', dtype=torch.float64),\n",
       "   tensor(0.8458, device='cuda:0', dtype=torch.float64),\n",
       "   tensor(0.8065, device='cuda:0', dtype=torch.float64),\n",
       "   tensor(0.8770, device='cuda:0', dtype=torch.float64),\n",
       "   tensor(0.8750, device='cuda:0', dtype=torch.float64),\n",
       "   tensor(0.9224, device='cuda:0', dtype=torch.float64),\n",
       "   tensor(0.9194, device='cuda:0', dtype=torch.float64),\n",
       "   tensor(0.9194, device='cuda:0', dtype=torch.float64),\n",
       "   tensor(0.9194, device='cuda:0', dtype=torch.float64),\n",
       "   tensor(0.9194, device='cuda:0', dtype=torch.float64),\n",
       "   tensor(0.9204, device='cuda:0', dtype=torch.float64),\n",
       "   tensor(0.9204, device='cuda:0', dtype=torch.float64)],\n",
       "  '0.75': [tensor(0.6418, device='cuda:0', dtype=torch.float64),\n",
       "   tensor(0.6129, device='cuda:0', dtype=torch.float64),\n",
       "   tensor(0.8387, device='cuda:0', dtype=torch.float64),\n",
       "   tensor(0.9168, device='cuda:0', dtype=torch.float64),\n",
       "   tensor(0.8234, device='cuda:0', dtype=torch.float64),\n",
       "   tensor(0.8761, device='cuda:0', dtype=torch.float64),\n",
       "   tensor(0.9015, device='cuda:0', dtype=torch.float64),\n",
       "   tensor(0.8778, device='cuda:0', dtype=torch.float64),\n",
       "   tensor(0.7776, device='cuda:0', dtype=torch.float64),\n",
       "   tensor(0.8455, device='cuda:0', dtype=torch.float64),\n",
       "   tensor(0.8812, device='cuda:0', dtype=torch.float64),\n",
       "   tensor(0.9032, device='cuda:0', dtype=torch.float64),\n",
       "   tensor(0.9542, device='cuda:0', dtype=torch.float64),\n",
       "   tensor(0.9253, device='cuda:0', dtype=torch.float64),\n",
       "   tensor(0.9253, device='cuda:0', dtype=torch.float64),\n",
       "   tensor(0.8693, device='cuda:0', dtype=torch.float64),\n",
       "   tensor(0.6061, device='cuda:0', dtype=torch.float64),\n",
       "   tensor(0.9559, device='cuda:0', dtype=torch.float64),\n",
       "   tensor(0.9525, device='cuda:0', dtype=torch.float64),\n",
       "   tensor(0.9253, device='cuda:0', dtype=torch.float64),\n",
       "   tensor(0.9626, device='cuda:0', dtype=torch.float64),\n",
       "   tensor(0.9270, device='cuda:0', dtype=torch.float64),\n",
       "   tensor(0.9542, device='cuda:0', dtype=torch.float64),\n",
       "   tensor(0.9406, device='cuda:0', dtype=torch.float64),\n",
       "   tensor(0.9389, device='cuda:0', dtype=torch.float64),\n",
       "   tensor(0.9389, device='cuda:0', dtype=torch.float64),\n",
       "   tensor(0.9372, device='cuda:0', dtype=torch.float64),\n",
       "   tensor(0.9372, device='cuda:0', dtype=torch.float64),\n",
       "   tensor(0.9372, device='cuda:0', dtype=torch.float64),\n",
       "   tensor(0.9372, device='cuda:0', dtype=torch.float64)],\n",
       "  '1.0': [tensor(0.2553, device='cuda:0', dtype=torch.float64),\n",
       "   tensor(0.9628, device='cuda:0', dtype=torch.float64),\n",
       "   tensor(0.9787, device='cuda:0', dtype=torch.float64),\n",
       "   tensor(0.9628, device='cuda:0', dtype=torch.float64),\n",
       "   tensor(0.9840, device='cuda:0', dtype=torch.float64),\n",
       "   tensor(0.9681, device='cuda:0', dtype=torch.float64),\n",
       "   tensor(0.9787, device='cuda:0', dtype=torch.float64),\n",
       "   tensor(0.9840, device='cuda:0', dtype=torch.float64),\n",
       "   tensor(0.9628, device='cuda:0', dtype=torch.float64),\n",
       "   tensor(0.9521, device='cuda:0', dtype=torch.float64),\n",
       "   tensor(0.9574, device='cuda:0', dtype=torch.float64),\n",
       "   tensor(0.9628, device='cuda:0', dtype=torch.float64),\n",
       "   tensor(0.9787, device='cuda:0', dtype=torch.float64),\n",
       "   tensor(0.9840, device='cuda:0', dtype=torch.float64),\n",
       "   tensor(0.9840, device='cuda:0', dtype=torch.float64),\n",
       "   tensor(0.9787, device='cuda:0', dtype=torch.float64),\n",
       "   tensor(0.9628, device='cuda:0', dtype=torch.float64),\n",
       "   tensor(0.9468, device='cuda:0', dtype=torch.float64),\n",
       "   tensor(0.9840, device='cuda:0', dtype=torch.float64),\n",
       "   tensor(0.9787, device='cuda:0', dtype=torch.float64),\n",
       "   tensor(0.9840, device='cuda:0', dtype=torch.float64),\n",
       "   tensor(0.9681, device='cuda:0', dtype=torch.float64),\n",
       "   tensor(0.9787, device='cuda:0', dtype=torch.float64),\n",
       "   tensor(0.9840, device='cuda:0', dtype=torch.float64),\n",
       "   tensor(0.9840, device='cuda:0', dtype=torch.float64),\n",
       "   tensor(0.9840, device='cuda:0', dtype=torch.float64),\n",
       "   tensor(0.9840, device='cuda:0', dtype=torch.float64),\n",
       "   tensor(0.9840, device='cuda:0', dtype=torch.float64),\n",
       "   tensor(0.9840, device='cuda:0', dtype=torch.float64),\n",
       "   tensor(0.9840, device='cuda:0', dtype=torch.float64)]},\n",
       " 'best_epoch': 24}"
      ]
     },
     "execution_count": 7,
     "metadata": {},
     "output_type": "execute_result"
    }
   ],
   "source": [
    "param_dict"
   ]
  },
  {
   "cell_type": "code",
   "execution_count": null,
   "metadata": {
    "tags": []
   },
   "outputs": [
    {
     "name": "stdout",
     "output_type": "stream",
     "text": [
      "Classes:  ['0.0', '0.25', '0.5', '0.75', '1.0']\n",
      "number of instances to be used are 20054\n",
      "cuda\n",
      "[INFO] Created SummaryWriter, saving to: runs/2024-04-26/3000_data_instances/vit_b_8_Cos_S_2_BS4_M0/05-11-05...\n",
      "Epoch 0/29\n",
      "----------\n",
      "current_LR: 0.00000000\n"
     ]
    },
    {
     "name": "stderr",
     "output_type": "stream",
     "text": [
      "                                                                                \r"
     ]
    },
    {
     "name": "stdout",
     "output_type": "stream",
     "text": [
      "train Loss: 1.0103 Acc: 0.5586\n",
      "Per-class Accuracy:\n",
      "0.0: 0.6087\n",
      "0.25: 0.6221\n",
      "0.5: 0.4770\n",
      "0.75: 0.4615\n",
      "1.0: 0.6288\n"
     ]
    },
    {
     "name": "stderr",
     "output_type": "stream",
     "text": [
      "                                                                             \r"
     ]
    },
    {
     "name": "stdout",
     "output_type": "stream",
     "text": [
      "val Loss: 0.6385 Acc: 0.7205\n",
      "Per-class Accuracy:\n",
      "0.0: 0.8612\n",
      "0.25: 0.6251\n",
      "0.5: 0.5793\n",
      "0.75: 0.8397\n",
      "1.0: 0.8517\n",
      "\n",
      "Epoch 1/29\n",
      "----------\n",
      "current_LR: 0.00025069\n"
     ]
    },
    {
     "name": "stderr",
     "output_type": "stream",
     "text": [
      "                                                                                 \r"
     ]
    },
    {
     "name": "stdout",
     "output_type": "stream",
     "text": [
      "train Loss: 0.5408 Acc: 0.7734\n",
      "Per-class Accuracy:\n",
      "0.0: 0.8624\n",
      "0.25: 0.7596\n",
      "0.5: 0.7127\n",
      "0.75: 0.7058\n",
      "1.0: 0.9094\n"
     ]
    },
    {
     "name": "stderr",
     "output_type": "stream",
     "text": [
      "                                                                              \r"
     ]
    },
    {
     "name": "stdout",
     "output_type": "stream",
     "text": [
      "val Loss: 0.3885 Acc: 0.8447\n",
      "Per-class Accuracy:\n",
      "0.0: 0.9359\n",
      "0.25: 0.8163\n",
      "0.5: 0.7934\n",
      "0.75: 0.7873\n",
      "1.0: 0.9617\n",
      "\n",
      "Epoch 2/29\n",
      "----------\n",
      "current_LR: 0.00032764\n"
     ]
    },
    {
     "name": "stderr",
     "output_type": "stream",
     "text": [
      "                                                                                  \r"
     ]
    },
    {
     "name": "stdout",
     "output_type": "stream",
     "text": [
      "train Loss: 0.3308 Acc: 0.8664\n",
      "Per-class Accuracy:\n",
      "0.0: 0.9253\n",
      "0.25: 0.8608\n",
      "0.5: 0.8276\n",
      "0.75: 0.8065\n",
      "1.0: 0.9770\n"
     ]
    },
    {
     "name": "stderr",
     "output_type": "stream",
     "text": [
      "                                                                              \r"
     ]
    },
    {
     "name": "stdout",
     "output_type": "stream",
     "text": [
      "val Loss: 0.2754 Acc: 0.8908\n",
      "Per-class Accuracy:\n",
      "0.0: 0.9262\n",
      "0.25: 0.9044\n",
      "0.5: 0.9063\n",
      "0.75: 0.7524\n",
      "1.0: 0.9856\n",
      "\n",
      "Epoch 3/29\n",
      "----------\n",
      "current_LR: 0.00017344\n"
     ]
    },
    {
     "name": "stderr",
     "output_type": "stream",
     "text": [
      "                                                                                  \r"
     ]
    },
    {
     "name": "stdout",
     "output_type": "stream",
     "text": [
      "train Loss: 0.1855 Acc: 0.9306\n",
      "Per-class Accuracy:\n",
      "0.0: 0.9635\n",
      "0.25: 0.9335\n",
      "0.5: 0.9080\n",
      "0.75: 0.8882\n",
      "1.0: 0.9885\n"
     ]
    },
    {
     "name": "stderr",
     "output_type": "stream",
     "text": [
      "                                                                               \r"
     ]
    },
    {
     "name": "stdout",
     "output_type": "stream",
     "text": [
      "val Loss: 0.2285 Acc: 0.9162\n",
      "Per-class Accuracy:\n",
      "0.0: 0.9573\n",
      "0.25: 0.9368\n",
      "0.5: 0.8435\n",
      "0.75: 0.8937\n",
      "1.0: 0.9904\n",
      "\n",
      "Epoch 4/29\n",
      "----------\n",
      "current_LR: 0.00004867\n"
     ]
    },
    {
     "name": "stderr",
     "output_type": "stream",
     "text": [
      "                                                                                  \r"
     ]
    },
    {
     "name": "stdout",
     "output_type": "stream",
     "text": [
      "train Loss: 0.1012 Acc: 0.9633\n",
      "Per-class Accuracy:\n",
      "0.0: 0.9854\n",
      "0.25: 0.9670\n",
      "0.5: 0.9471\n",
      "0.75: 0.9370\n",
      "1.0: 0.9911\n"
     ]
    },
    {
     "name": "stderr",
     "output_type": "stream",
     "text": [
      "                                                                               \r"
     ]
    },
    {
     "name": "stdout",
     "output_type": "stream",
     "text": [
      "val Loss: 0.1985 Acc: 0.9279\n",
      "Per-class Accuracy:\n",
      "0.0: 0.9583\n",
      "0.25: 0.9343\n",
      "0.5: 0.8935\n",
      "0.75: 0.8968\n",
      "1.0: 0.9904\n",
      "\n",
      "Epoch 5/29\n",
      "----------\n",
      "current_LR: 0.00000100\n"
     ]
    },
    {
     "name": "stderr",
     "output_type": "stream",
     "text": [
      "                                                                                  \r"
     ]
    },
    {
     "name": "stdout",
     "output_type": "stream",
     "text": [
      "train Loss: 0.2065 Acc: 0.9231\n",
      "Per-class Accuracy:\n",
      "0.0: 0.9572\n",
      "0.25: 0.9206\n",
      "0.5: 0.8926\n",
      "0.75: 0.9013\n",
      "1.0: 0.9809\n"
     ]
    },
    {
     "name": "stderr",
     "output_type": "stream",
     "text": [
      "                                                                               \r"
     ]
    },
    {
     "name": "stdout",
     "output_type": "stream",
     "text": [
      "val Loss: 0.3169 Acc: 0.8763\n",
      "Per-class Accuracy:\n",
      "0.0: 0.9650\n",
      "0.25: 0.8396\n",
      "0.5: 0.8754\n",
      "0.75: 0.7730\n",
      "1.0: 0.9665\n",
      "\n",
      "Epoch 6/29\n",
      "----------\n",
      "current_LR: 0.00033930\n"
     ]
    },
    {
     "name": "stderr",
     "output_type": "stream",
     "text": [
      "                                                                                  \r"
     ]
    },
    {
     "name": "stdout",
     "output_type": "stream",
     "text": [
      "train Loss: 0.1802 Acc: 0.9306\n",
      "Per-class Accuracy:\n",
      "0.0: 0.9570\n",
      "0.25: 0.9292\n",
      "0.5: 0.9108\n",
      "0.75: 0.9017\n",
      "1.0: 0.9923\n"
     ]
    },
    {
     "name": "stderr",
     "output_type": "stream",
     "text": [
      "                                                                               \r"
     ]
    },
    {
     "name": "stdout",
     "output_type": "stream",
     "text": [
      "val Loss: 0.2068 Acc: 0.9195\n",
      "Per-class Accuracy:\n",
      "0.0: 0.9272\n",
      "0.25: 0.9418\n",
      "0.5: 0.8573\n",
      "0.75: 0.9333\n",
      "1.0: 0.9904\n",
      "\n",
      "Epoch 7/29\n",
      "----------\n",
      "current_LR: 0.00024581\n"
     ]
    },
    {
     "name": "stderr",
     "output_type": "stream",
     "text": [
      "                                                                                  \r"
     ]
    },
    {
     "name": "stdout",
     "output_type": "stream",
     "text": [
      "train Loss: 0.0897 Acc: 0.9658\n",
      "Per-class Accuracy:\n",
      "0.0: 0.9844\n",
      "0.25: 0.9677\n",
      "0.5: 0.9504\n",
      "0.75: 0.9485\n",
      "1.0: 0.9898\n"
     ]
    },
    {
     "name": "stderr",
     "output_type": "stream",
     "text": [
      "                                                                               \r"
     ]
    },
    {
     "name": "stdout",
     "output_type": "stream",
     "text": [
      "val Loss: 0.1876 Acc: 0.9384\n",
      "Per-class Accuracy:\n",
      "0.0: 0.9641\n",
      "0.25: 0.9252\n",
      "0.5: 0.9574\n",
      "0.75: 0.8778\n",
      "1.0: 0.9856\n",
      "\n",
      "Epoch 8/29\n",
      "----------\n",
      "current_LR: 0.00013024\n"
     ]
    },
    {
     "name": "stderr",
     "output_type": "stream",
     "text": [
      "                                                                                  \r"
     ]
    },
    {
     "name": "stdout",
     "output_type": "stream",
     "text": [
      "train Loss: 0.0290 Acc: 0.9905\n",
      "Per-class Accuracy:\n",
      "0.0: 0.9964\n",
      "0.25: 0.9922\n",
      "0.5: 0.9871\n",
      "0.75: 0.9810\n",
      "1.0: 0.9974\n"
     ]
    },
    {
     "name": "stderr",
     "output_type": "stream",
     "text": [
      "                                                                               \r"
     ]
    },
    {
     "name": "stdout",
     "output_type": "stream",
     "text": [
      "val Loss: 0.1647 Acc: 0.9504\n",
      "Per-class Accuracy:\n",
      "0.0: 0.9660\n",
      "0.25: 0.9568\n",
      "0.5: 0.9265\n",
      "0.75: 0.9349\n",
      "1.0: 0.9904\n",
      "\n",
      "Epoch 9/29\n",
      "----------\n",
      "current_LR: 0.00003673\n"
     ]
    },
    {
     "name": "stderr",
     "output_type": "stream",
     "text": [
      "                                                                                  \r"
     ]
    },
    {
     "name": "stdout",
     "output_type": "stream",
     "text": [
      "train Loss: 0.0125 Acc: 0.9976\n",
      "Per-class Accuracy:\n",
      "0.0: 0.9993\n",
      "0.25: 0.9981\n",
      "0.5: 0.9974\n",
      "0.75: 0.9937\n",
      "1.0: 1.0000\n"
     ]
    },
    {
     "name": "stderr",
     "output_type": "stream",
     "text": [
      "                                                                                \r"
     ]
    },
    {
     "name": "stdout",
     "output_type": "stream",
     "text": [
      "val Loss: 0.1695 Acc: 0.9489\n",
      "Per-class Accuracy:\n",
      "0.0: 0.9650\n",
      "0.25: 0.9518\n",
      "0.5: 0.9255\n",
      "0.75: 0.9397\n",
      "1.0: 0.9856\n",
      "\n",
      "Epoch 10/29\n",
      "----------\n",
      "current_LR: 0.00000100\n"
     ]
    },
    {
     "name": "stderr",
     "output_type": "stream",
     "text": [
      "                                                                                   \r"
     ]
    },
    {
     "name": "stdout",
     "output_type": "stream",
     "text": [
      "train Loss: 0.0863 Acc: 0.9691\n",
      "Per-class Accuracy:\n",
      "0.0: 0.9857\n",
      "0.25: 0.9679\n",
      "0.5: 0.9571\n",
      "0.75: 0.9556\n",
      "1.0: 0.9936\n"
     ]
    },
    {
     "name": "stderr",
     "output_type": "stream",
     "text": [
      "                                                                                \r"
     ]
    },
    {
     "name": "stdout",
     "output_type": "stream",
     "text": [
      "val Loss: 0.2327 Acc: 0.9205\n",
      "Per-class Accuracy:\n",
      "0.0: 0.9340\n",
      "0.25: 0.9534\n",
      "0.5: 0.8403\n",
      "0.75: 0.9381\n",
      "1.0: 0.9713\n",
      "\n",
      "Epoch 11/29\n",
      "----------\n",
      "current_LR: 0.00025450\n"
     ]
    },
    {
     "name": "stderr",
     "output_type": "stream",
     "text": [
      "                                                                                   \r"
     ]
    },
    {
     "name": "stdout",
     "output_type": "stream",
     "text": [
      "train Loss: 0.0718 Acc: 0.9750\n",
      "Per-class Accuracy:\n",
      "0.0: 0.9854\n",
      "0.25: 0.9751\n",
      "0.5: 0.9671\n",
      "0.75: 0.9643\n",
      "1.0: 0.9936\n"
     ]
    },
    {
     "name": "stderr",
     "output_type": "stream",
     "text": [
      "                                                                                \r"
     ]
    },
    {
     "name": "stdout",
     "output_type": "stream",
     "text": [
      "val Loss: 0.1801 Acc: 0.9414\n",
      "Per-class Accuracy:\n",
      "0.0: 0.9728\n",
      "0.25: 0.9277\n",
      "0.5: 0.9159\n",
      "0.75: 0.9381\n",
      "1.0: 0.9904\n",
      "\n",
      "Epoch 12/29\n",
      "----------\n",
      "current_LR: 0.00018445\n"
     ]
    },
    {
     "name": "stderr",
     "output_type": "stream",
     "text": [
      "                                                                                   \r"
     ]
    },
    {
     "name": "stdout",
     "output_type": "stream",
     "text": [
      "train Loss: 0.0173 Acc: 0.9951\n",
      "Per-class Accuracy:\n",
      "0.0: 0.9978\n",
      "0.25: 0.9962\n",
      "0.5: 0.9931\n",
      "0.75: 0.9905\n",
      "1.0: 1.0000\n"
     ]
    },
    {
     "name": "stderr",
     "output_type": "stream",
     "text": [
      "                                                                                 \r"
     ]
    },
    {
     "name": "stdout",
     "output_type": "stream",
     "text": [
      "val Loss: 0.1770 Acc: 0.9494\n",
      "Per-class Accuracy:\n",
      "0.0: 0.9612\n",
      "0.25: 0.9510\n",
      "0.5: 0.9404\n",
      "0.75: 0.9286\n",
      "1.0: 0.9856\n",
      "\n",
      "Epoch 13/29\n",
      "----------\n",
      "current_LR: 0.00009784\n"
     ]
    },
    {
     "name": "stderr",
     "output_type": "stream",
     "text": [
      "                                                                                41]\r"
     ]
    },
    {
     "name": "stdout",
     "output_type": "stream",
     "text": [
      "val Loss: 0.1828 Acc: 0.9519\n",
      "Per-class Accuracy:\n",
      "0.0: 0.9641\n",
      "0.25: 0.9576\n",
      "0.5: 0.9286\n",
      "0.75: 0.9444\n",
      "1.0: 0.9856\n",
      "\n",
      "Epoch 14/29\n",
      "----------\n",
      "current_LR: 0.00002777\n"
     ]
    },
    {
     "name": "stderr",
     "output_type": "stream",
     "text": [
      "                                                                                   \r"
     ]
    },
    {
     "name": "stdout",
     "output_type": "stream",
     "text": [
      "train Loss: 0.0029 Acc: 0.9997\n",
      "Per-class Accuracy:\n",
      "0.0: 1.0000\n",
      "0.25: 1.0000\n",
      "0.5: 1.0000\n",
      "0.75: 0.9980\n",
      "1.0: 1.0000\n"
     ]
    },
    {
     "name": "stderr",
     "output_type": "stream",
     "text": [
      "                                                                                 \r"
     ]
    },
    {
     "name": "stdout",
     "output_type": "stream",
     "text": [
      "val Loss: 0.1832 Acc: 0.9521\n",
      "Per-class Accuracy:\n",
      "0.0: 0.9621\n",
      "0.25: 0.9576\n",
      "0.5: 0.9308\n",
      "0.75: 0.9460\n",
      "1.0: 0.9856\n",
      "\n",
      "Epoch 15/29\n",
      "----------\n",
      "current_LR: 0.00000100\n"
     ]
    },
    {
     "name": "stderr",
     "output_type": "stream",
     "text": [
      "                                                                                   \r"
     ]
    },
    {
     "name": "stdout",
     "output_type": "stream",
     "text": [
      "train Loss: 0.0128 Acc: 0.9966\n",
      "Per-class Accuracy:\n",
      "0.0: 0.9988\n",
      "0.25: 0.9958\n",
      "0.5: 0.9956\n",
      "0.75: 0.9952\n",
      "1.0: 0.9987\n"
     ]
    },
    {
     "name": "stderr",
     "output_type": "stream",
     "text": [
      "                                                                                \r"
     ]
    },
    {
     "name": "stdout",
     "output_type": "stream",
     "text": [
      "val Loss: 0.2235 Acc: 0.9422\n",
      "Per-class Accuracy:\n",
      "0.0: 0.9476\n",
      "0.25: 0.9534\n",
      "0.5: 0.9084\n",
      "0.75: 0.9460\n",
      "1.0: 0.9904\n",
      "\n",
      "Epoch 16/29\n",
      "----------\n",
      "current_LR: 0.00019090\n"
     ]
    },
    {
     "name": "stderr",
     "output_type": "stream",
     "text": [
      "                                                                                   \r"
     ]
    },
    {
     "name": "stdout",
     "output_type": "stream",
     "text": [
      "train Loss: 0.0160 Acc: 0.9954\n",
      "Per-class Accuracy:\n",
      "0.0: 0.9993\n",
      "0.25: 0.9962\n",
      "0.5: 0.9918\n",
      "0.75: 0.9917\n",
      "1.0: 1.0000\n"
     ]
    },
    {
     "name": "stderr",
     "output_type": "stream",
     "text": [
      "                                                                                 \r"
     ]
    },
    {
     "name": "stdout",
     "output_type": "stream",
     "text": [
      "val Loss: 0.3421 Acc: 0.9195\n",
      "Per-class Accuracy:\n",
      "0.0: 0.9029\n",
      "0.25: 0.9127\n",
      "0.5: 0.9201\n",
      "0.75: 0.9349\n",
      "1.0: 0.9904\n",
      "\n",
      "Epoch 17/29\n",
      "----------\n",
      "current_LR: 0.00013842\n"
     ]
    },
    {
     "name": "stderr",
     "output_type": "stream",
     "text": [
      "                                                                                   \r"
     ]
    },
    {
     "name": "stdout",
     "output_type": "stream",
     "text": [
      "train Loss: 0.0053 Acc: 0.9988\n",
      "Per-class Accuracy:\n",
      "0.0: 0.9998\n",
      "0.25: 0.9992\n",
      "0.5: 0.9982\n",
      "0.75: 0.9972\n",
      "1.0: 0.9987\n"
     ]
    },
    {
     "name": "stderr",
     "output_type": "stream",
     "text": [
      "                                                                                 \r"
     ]
    },
    {
     "name": "stdout",
     "output_type": "stream",
     "text": [
      "val Loss: 0.2035 Acc: 0.9514\n",
      "Per-class Accuracy:\n",
      "0.0: 0.9631\n",
      "0.25: 0.9551\n",
      "0.5: 0.9297\n",
      "0.75: 0.9444\n",
      "1.0: 0.9904\n",
      "\n",
      "Epoch 18/29\n",
      "----------\n",
      "current_LR: 0.00007355\n"
     ]
    },
    {
     "name": "stderr",
     "output_type": "stream",
     "text": [
      "                                                                                   \r"
     ]
    },
    {
     "name": "stdout",
     "output_type": "stream",
     "text": [
      "train Loss: 0.0014 Acc: 0.9999\n",
      "Per-class Accuracy:\n",
      "0.0: 1.0000\n",
      "0.25: 1.0000\n",
      "0.5: 1.0000\n",
      "0.75: 0.9992\n",
      "1.0: 1.0000\n"
     ]
    },
    {
     "name": "stderr",
     "output_type": "stream",
     "text": [
      "                                                                                 \r"
     ]
    },
    {
     "name": "stdout",
     "output_type": "stream",
     "text": [
      "val Loss: 0.2069 Acc: 0.9514\n",
      "Per-class Accuracy:\n",
      "0.0: 0.9631\n",
      "0.25: 0.9534\n",
      "0.5: 0.9329\n",
      "0.75: 0.9429\n",
      "1.0: 0.9904\n",
      "\n",
      "Epoch 19/29\n",
      "----------\n",
      "current_LR: 0.00002106\n"
     ]
    },
    {
     "name": "stderr",
     "output_type": "stream",
     "text": [
      "                                                                                   \r"
     ]
    },
    {
     "name": "stdout",
     "output_type": "stream",
     "text": [
      "train Loss: 0.0011 Acc: 0.9999\n",
      "Per-class Accuracy:\n",
      "0.0: 1.0000\n",
      "0.25: 1.0000\n",
      "0.5: 1.0000\n",
      "0.75: 0.9996\n",
      "1.0: 1.0000\n"
     ]
    },
    {
     "name": "stderr",
     "output_type": "stream",
     "text": [
      "                                                                                 \r"
     ]
    },
    {
     "name": "stdout",
     "output_type": "stream",
     "text": [
      "val Loss: 0.2072 Acc: 0.9516\n",
      "Per-class Accuracy:\n",
      "0.0: 0.9631\n",
      "0.25: 0.9543\n",
      "0.5: 0.9329\n",
      "0.75: 0.9429\n",
      "1.0: 0.9904\n",
      "\n",
      "Epoch 20/29\n",
      "----------\n",
      "current_LR: 0.00000100\n"
     ]
    },
    {
     "name": "stderr",
     "output_type": "stream",
     "text": [
      "                                                                                   \r"
     ]
    },
    {
     "name": "stdout",
     "output_type": "stream",
     "text": [
      "train Loss: 0.0014 Acc: 0.9998\n",
      "Per-class Accuracy:\n",
      "0.0: 1.0000\n",
      "0.25: 1.0000\n",
      "0.5: 1.0000\n",
      "0.75: 0.9988\n",
      "1.0: 0.9987\n"
     ]
    },
    {
     "name": "stderr",
     "output_type": "stream",
     "text": [
      "                                                                                 \r"
     ]
    },
    {
     "name": "stdout",
     "output_type": "stream",
     "text": [
      "val Loss: 0.2211 Acc: 0.9461\n",
      "Per-class Accuracy:\n",
      "0.0: 0.9631\n",
      "0.25: 0.9501\n",
      "0.5: 0.9265\n",
      "0.75: 0.9254\n",
      "1.0: 0.9904\n",
      "\n",
      "Epoch 21/29\n",
      "----------\n",
      "current_LR: 0.00014320\n"
     ]
    },
    {
     "name": "stderr",
     "output_type": "stream",
     "text": [
      "                                                                                   \r"
     ]
    },
    {
     "name": "stdout",
     "output_type": "stream",
     "text": [
      "train Loss: 0.0010 Acc: 0.9999\n",
      "Per-class Accuracy:\n",
      "0.0: 1.0000\n",
      "0.25: 1.0000\n",
      "0.5: 1.0000\n",
      "0.75: 0.9992\n",
      "1.0: 1.0000\n"
     ]
    },
    {
     "name": "stderr",
     "output_type": "stream",
     "text": [
      "                                                                                \r"
     ]
    },
    {
     "name": "stdout",
     "output_type": "stream",
     "text": [
      "val Loss: 0.2145 Acc: 0.9496\n",
      "Per-class Accuracy:\n",
      "0.0: 0.9631\n",
      "0.25: 0.9501\n",
      "0.5: 0.9350\n",
      "0.75: 0.9349\n",
      "1.0: 0.9904\n",
      "\n",
      "Epoch 22/29\n",
      "----------\n",
      "current_LR: 0.00010390\n"
     ]
    },
    {
     "name": "stderr",
     "output_type": "stream",
     "text": [
      "                                                                                   \r"
     ]
    },
    {
     "name": "stdout",
     "output_type": "stream",
     "text": [
      "train Loss: 0.0006 Acc: 0.9999\n",
      "Per-class Accuracy:\n",
      "0.0: 1.0000\n",
      "0.25: 1.0000\n",
      "0.5: 1.0000\n",
      "0.75: 0.9996\n",
      "1.0: 1.0000\n"
     ]
    },
    {
     "name": "stderr",
     "output_type": "stream",
     "text": [
      "                                                                                \r"
     ]
    },
    {
     "name": "stdout",
     "output_type": "stream",
     "text": [
      "val Loss: 0.2150 Acc: 0.9509\n",
      "Per-class Accuracy:\n",
      "0.0: 0.9641\n",
      "0.25: 0.9526\n",
      "0.5: 0.9340\n",
      "0.75: 0.9381\n",
      "1.0: 0.9904\n",
      "\n",
      "Epoch 23/29\n",
      "----------\n",
      "current_LR: 0.00005532\n"
     ]
    },
    {
     "name": "stderr",
     "output_type": "stream",
     "text": [
      "                                                                                   \r"
     ]
    },
    {
     "name": "stdout",
     "output_type": "stream",
     "text": [
      "train Loss: 0.0005 Acc: 1.0000\n",
      "Per-class Accuracy:\n",
      "0.0: 1.0000\n",
      "0.25: 1.0000\n",
      "0.5: 1.0000\n",
      "0.75: 1.0000\n",
      "1.0: 1.0000\n"
     ]
    },
    {
     "name": "stderr",
     "output_type": "stream",
     "text": [
      "                                                                                \r"
     ]
    },
    {
     "name": "stdout",
     "output_type": "stream",
     "text": [
      "val Loss: 0.2156 Acc: 0.9509\n",
      "Per-class Accuracy:\n",
      "0.0: 0.9641\n",
      "0.25: 0.9526\n",
      "0.5: 0.9340\n",
      "0.75: 0.9381\n",
      "1.0: 0.9904\n",
      "\n",
      "Epoch 24/29\n",
      "----------\n",
      "current_LR: 0.00001602\n"
     ]
    },
    {
     "name": "stderr",
     "output_type": "stream",
     "text": [
      "                                                                                   \r"
     ]
    },
    {
     "name": "stdout",
     "output_type": "stream",
     "text": [
      "train Loss: 0.0004 Acc: 1.0000\n",
      "Per-class Accuracy:\n",
      "0.0: 1.0000\n",
      "0.25: 1.0000\n",
      "0.5: 1.0000\n",
      "0.75: 1.0000\n",
      "1.0: 1.0000\n"
     ]
    },
    {
     "name": "stderr",
     "output_type": "stream",
     "text": [
      "                                                                                   \r"
     ]
    },
    {
     "name": "stdout",
     "output_type": "stream",
     "text": [
      "train Loss: 0.0004 Acc: 1.0000\n",
      "Per-class Accuracy:\n",
      "0.0: 1.0000\n",
      "0.25: 1.0000\n",
      "0.5: 1.0000\n",
      "0.75: 1.0000\n",
      "1.0: 1.0000\n"
     ]
    },
    {
     "name": "stderr",
     "output_type": "stream",
     "text": [
      "                                                                                \r"
     ]
    },
    {
     "name": "stdout",
     "output_type": "stream",
     "text": [
      "val Loss: 0.2181 Acc: 0.9514\n",
      "Per-class Accuracy:\n",
      "0.0: 0.9641\n",
      "0.25: 0.9526\n",
      "0.5: 0.9372\n",
      "0.75: 0.9365\n",
      "1.0: 0.9904\n",
      "\n",
      "Epoch 26/29\n",
      "----------\n",
      "current_LR: 0.00010742\n"
     ]
    },
    {
     "name": "stderr",
     "output_type": "stream",
     "text": [
      "                                                                                   \r"
     ]
    },
    {
     "name": "stdout",
     "output_type": "stream",
     "text": [
      "train Loss: 0.0004 Acc: 1.0000\n",
      "Per-class Accuracy:\n",
      "0.0: 1.0000\n",
      "0.25: 1.0000\n",
      "0.5: 1.0000\n",
      "0.75: 1.0000\n",
      "1.0: 1.0000\n"
     ]
    },
    {
     "name": "stderr",
     "output_type": "stream",
     "text": [
      "                                                                                 \r"
     ]
    },
    {
     "name": "stdout",
     "output_type": "stream",
     "text": [
      "val Loss: 0.2193 Acc: 0.9499\n",
      "Per-class Accuracy:\n",
      "0.0: 0.9631\n",
      "0.25: 0.9526\n",
      "0.5: 0.9329\n",
      "0.75: 0.9349\n",
      "1.0: 0.9904\n",
      "\n",
      "Epoch 27/29\n",
      "----------\n",
      "current_LR: 0.00007801\n"
     ]
    },
    {
     "name": "stderr",
     "output_type": "stream",
     "text": [
      "                                                                                   \r"
     ]
    },
    {
     "name": "stdout",
     "output_type": "stream",
     "text": [
      "train Loss: 0.0003 Acc: 1.0000\n",
      "Per-class Accuracy:\n",
      "0.0: 1.0000\n",
      "0.25: 1.0000\n",
      "0.5: 1.0000\n",
      "0.75: 1.0000\n",
      "1.0: 1.0000\n"
     ]
    },
    {
     "name": "stderr",
     "output_type": "stream",
     "text": [
      "                                                                                 \r"
     ]
    },
    {
     "name": "stdout",
     "output_type": "stream",
     "text": [
      "val Loss: 0.2200 Acc: 0.9504\n",
      "Per-class Accuracy:\n",
      "0.0: 0.9641\n",
      "0.25: 0.9510\n",
      "0.5: 0.9350\n",
      "0.75: 0.9365\n",
      "1.0: 0.9904\n",
      "\n",
      "Epoch 28/29\n",
      "----------\n",
      "current_LR: 0.00004166\n"
     ]
    },
    {
     "name": "stderr",
     "output_type": "stream",
     "text": [
      "                                                                                   \r"
     ]
    },
    {
     "name": "stdout",
     "output_type": "stream",
     "text": [
      "train Loss: 0.0003 Acc: 1.0000\n",
      "Per-class Accuracy:\n",
      "0.0: 1.0000\n",
      "0.25: 1.0000\n",
      "0.5: 1.0000\n",
      "0.75: 1.0000\n",
      "1.0: 1.0000\n"
     ]
    },
    {
     "name": "stderr",
     "output_type": "stream",
     "text": [
      "                                                                                 \r"
     ]
    },
    {
     "name": "stdout",
     "output_type": "stream",
     "text": [
      "val Loss: 0.2203 Acc: 0.9506\n",
      "Per-class Accuracy:\n",
      "0.0: 0.9641\n",
      "0.25: 0.9518\n",
      "0.5: 0.9350\n",
      "0.75: 0.9365\n",
      "1.0: 0.9904\n",
      "\n",
      "Epoch 29/29\n",
      "----------\n",
      "current_LR: 0.00001224\n"
     ]
    },
    {
     "name": "stderr",
     "output_type": "stream",
     "text": [
      "                                                                                   \r"
     ]
    },
    {
     "name": "stdout",
     "output_type": "stream",
     "text": [
      "train Loss: 0.0003 Acc: 1.0000\n",
      "Per-class Accuracy:\n",
      "0.0: 1.0000\n",
      "0.25: 1.0000\n",
      "0.5: 1.0000\n",
      "0.75: 1.0000\n",
      "1.0: 1.0000\n"
     ]
    },
    {
     "name": "stderr",
     "output_type": "stream",
     "text": [
      "                                                                                 \r"
     ]
    },
    {
     "name": "stdout",
     "output_type": "stream",
     "text": [
      "val Loss: 0.2202 Acc: 0.9506\n",
      "Per-class Accuracy:\n",
      "0.0: 0.9641\n",
      "0.25: 0.9518\n",
      "0.5: 0.9350\n",
      "0.75: 0.9365\n",
      "1.0: 0.9904\n",
      "\n",
      "Training complete in 570m 2s\n",
      "Best val Acc: 0.952132\n"
     ]
    }
   ],
   "source": [
    "#use this function is running a new experiment\n",
    "# for different experiemnts, just copy and paste this below code, after making changes in the experiment yaml and run it\n",
    "\n",
    "Base_configurations_raw = init_base_config()\n",
    "Base_configurations = load_experiment_config(Base_configurations_raw,loc = 'utils/Experiments.yaml',experiment_name = 'Cos_S_2')\n",
    "\n",
    "\n",
    "if Base_configurations['first_run']:\n",
    "        \n",
    "    #running_dataloader\n",
    "    (dataloaders,dataset_sizes,\n",
    "     device,inputs,\n",
    "     merged_dataset, image_datasets, \n",
    "     class_names,data_transforms) = handle_data(Base_configurations,sub_folders,DATA_DIR=DATA_DIR,seed = 1000,\n",
    "                                        SUBSET_SIZE=SUBSET_SIZE,USE_SUBSET=USE_SUBSET,EXCLUDE=EXCLUDE,train_ratio=0.8,\n",
    "                                       batch_size=batch_size,shuffle=True,num_workers=0\n",
    "                                       )\n",
    "    \n",
    "    \n",
    "    \n",
    "    (model,param_groups, criterion,\n",
    "     optimizer,optimizer_ft,\n",
    "      exp_lr_scheduler, model_type, hparams) = set_experiment_model(Base_configurations,device,NUM_EPOCHS,dropout\n",
    "                                                                    ,batch_size,model=None,use_existing_model=False)\n",
    "\n",
    "    model,param_dict,writer =   run_model_fine_tuning(SUBSET_SIZE,model_type,hparams,model,criterion,optimizer_ft,exp_lr_scheduler,\n",
    "                                  dataloaders,device,dataset_sizes,class_names,\n",
    "\n",
    "                                  num_epochs=NUM_EPOCHS\n",
    "                                  ,epoch_start=epoch_start, writer = None, use_prior_writer= False, \n",
    "                                  return_writer = True, misc = ''\n",
    "\n",
    "\n",
    "                                 )  "
   ]
  },
  {
   "cell_type": "code",
   "execution_count": 9,
   "metadata": {
    "tags": []
   },
   "outputs": [
    {
     "data": {
      "text/plain": [
       "{'readings': {'train_accuracy': [tensor(0.5586, device='cuda:0', dtype=torch.float64),\n",
       "   tensor(0.7734, device='cuda:0', dtype=torch.float64),\n",
       "   tensor(0.8664, device='cuda:0', dtype=torch.float64),\n",
       "   tensor(0.9306, device='cuda:0', dtype=torch.float64),\n",
       "   tensor(0.9633, device='cuda:0', dtype=torch.float64),\n",
       "   tensor(0.9231, device='cuda:0', dtype=torch.float64),\n",
       "   tensor(0.9306, device='cuda:0', dtype=torch.float64),\n",
       "   tensor(0.9658, device='cuda:0', dtype=torch.float64),\n",
       "   tensor(0.9905, device='cuda:0', dtype=torch.float64),\n",
       "   tensor(0.9976, device='cuda:0', dtype=torch.float64),\n",
       "   tensor(0.9691, device='cuda:0', dtype=torch.float64),\n",
       "   tensor(0.9750, device='cuda:0', dtype=torch.float64),\n",
       "   tensor(0.9951, device='cuda:0', dtype=torch.float64),\n",
       "   tensor(0.9994, device='cuda:0', dtype=torch.float64),\n",
       "   tensor(0.9997, device='cuda:0', dtype=torch.float64),\n",
       "   tensor(0.9966, device='cuda:0', dtype=torch.float64),\n",
       "   tensor(0.9954, device='cuda:0', dtype=torch.float64),\n",
       "   tensor(0.9988, device='cuda:0', dtype=torch.float64),\n",
       "   tensor(0.9999, device='cuda:0', dtype=torch.float64),\n",
       "   tensor(0.9999, device='cuda:0', dtype=torch.float64),\n",
       "   tensor(0.9998, device='cuda:0', dtype=torch.float64),\n",
       "   tensor(0.9999, device='cuda:0', dtype=torch.float64),\n",
       "   tensor(0.9999, device='cuda:0', dtype=torch.float64),\n",
       "   tensor(1.0000, device='cuda:0', dtype=torch.float64),\n",
       "   tensor(1.0000, device='cuda:0', dtype=torch.float64),\n",
       "   tensor(1.0000, device='cuda:0', dtype=torch.float64),\n",
       "   tensor(1.0000, device='cuda:0', dtype=torch.float64),\n",
       "   tensor(1.0000, device='cuda:0', dtype=torch.float64),\n",
       "   tensor(1.0000, device='cuda:0', dtype=torch.float64),\n",
       "   tensor(1.0000, device='cuda:0', dtype=torch.float64)],\n",
       "  'train_loss': [1.0102964403776633,\n",
       "   0.540763434203554,\n",
       "   0.330846510937259,\n",
       "   0.18553912862246713,\n",
       "   0.10117810518383336,\n",
       "   0.20650823922276312,\n",
       "   0.18018865976632711,\n",
       "   0.08965312554879208,\n",
       "   0.029005913009560024,\n",
       "   0.012541162181487044,\n",
       "   0.08625762306319933,\n",
       "   0.07175214938684776,\n",
       "   0.01733331453474135,\n",
       "   0.00442601430013578,\n",
       "   0.0029042644901322713,\n",
       "   0.012755035027035285,\n",
       "   0.016001297664657656,\n",
       "   0.005285155531604093,\n",
       "   0.0014111765534646954,\n",
       "   0.001115998607142388,\n",
       "   0.0013585109232064436,\n",
       "   0.0009684407707346704,\n",
       "   0.0005579621993227335,\n",
       "   0.00046858211475947687,\n",
       "   0.00044670275305987086,\n",
       "   0.0004418950151875247,\n",
       "   0.0003859381137967333,\n",
       "   0.00034875220810828367,\n",
       "   0.00033005984044237325,\n",
       "   0.00032310737535388745],\n",
       "  'val_accuracy': [tensor(0.7205, device='cuda:0', dtype=torch.float64),\n",
       "   tensor(0.8447, device='cuda:0', dtype=torch.float64),\n",
       "   tensor(0.8908, device='cuda:0', dtype=torch.float64),\n",
       "   tensor(0.9162, device='cuda:0', dtype=torch.float64),\n",
       "   tensor(0.9279, device='cuda:0', dtype=torch.float64),\n",
       "   tensor(0.8763, device='cuda:0', dtype=torch.float64),\n",
       "   tensor(0.9195, device='cuda:0', dtype=torch.float64),\n",
       "   tensor(0.9384, device='cuda:0', dtype=torch.float64),\n",
       "   tensor(0.9504, device='cuda:0', dtype=torch.float64),\n",
       "   tensor(0.9489, device='cuda:0', dtype=torch.float64),\n",
       "   tensor(0.9205, device='cuda:0', dtype=torch.float64),\n",
       "   tensor(0.9414, device='cuda:0', dtype=torch.float64),\n",
       "   tensor(0.9494, device='cuda:0', dtype=torch.float64),\n",
       "   tensor(0.9519, device='cuda:0', dtype=torch.float64),\n",
       "   tensor(0.9521, device='cuda:0', dtype=torch.float64),\n",
       "   tensor(0.9422, device='cuda:0', dtype=torch.float64),\n",
       "   tensor(0.9195, device='cuda:0', dtype=torch.float64),\n",
       "   tensor(0.9514, device='cuda:0', dtype=torch.float64),\n",
       "   tensor(0.9514, device='cuda:0', dtype=torch.float64),\n",
       "   tensor(0.9516, device='cuda:0', dtype=torch.float64),\n",
       "   tensor(0.9461, device='cuda:0', dtype=torch.float64),\n",
       "   tensor(0.9496, device='cuda:0', dtype=torch.float64),\n",
       "   tensor(0.9509, device='cuda:0', dtype=torch.float64),\n",
       "   tensor(0.9509, device='cuda:0', dtype=torch.float64),\n",
       "   tensor(0.9509, device='cuda:0', dtype=torch.float64),\n",
       "   tensor(0.9514, device='cuda:0', dtype=torch.float64),\n",
       "   tensor(0.9499, device='cuda:0', dtype=torch.float64),\n",
       "   tensor(0.9504, device='cuda:0', dtype=torch.float64),\n",
       "   tensor(0.9506, device='cuda:0', dtype=torch.float64),\n",
       "   tensor(0.9506, device='cuda:0', dtype=torch.float64)],\n",
       "  'val_loss': [0.6384811101254234,\n",
       "   0.38849918439062986,\n",
       "   0.27537711680168114,\n",
       "   0.22851344004213306,\n",
       "   0.19845098135251757,\n",
       "   0.31694166073908814,\n",
       "   0.20684704262767123,\n",
       "   0.18764855036907485,\n",
       "   0.16469763782790114,\n",
       "   0.16948163041102296,\n",
       "   0.23265083286066446,\n",
       "   0.18014901596994673,\n",
       "   0.17704338807146003,\n",
       "   0.18279426431490606,\n",
       "   0.18323797201568806,\n",
       "   0.2234809902774091,\n",
       "   0.3420941555896376,\n",
       "   0.20354645824749176,\n",
       "   0.20689416492405943,\n",
       "   0.20718321551117277,\n",
       "   0.22108964782849685,\n",
       "   0.2144690461316715,\n",
       "   0.21497239113373248,\n",
       "   0.215641338953053,\n",
       "   0.21563409546236195,\n",
       "   0.21813572735652034,\n",
       "   0.2193448473178498,\n",
       "   0.2200187943704427,\n",
       "   0.2203087490241616,\n",
       "   0.22021744590190354],\n",
       "  '0.0': [tensor(0.8612, device='cuda:0', dtype=torch.float64),\n",
       "   tensor(0.9359, device='cuda:0', dtype=torch.float64),\n",
       "   tensor(0.9262, device='cuda:0', dtype=torch.float64),\n",
       "   tensor(0.9573, device='cuda:0', dtype=torch.float64),\n",
       "   tensor(0.9583, device='cuda:0', dtype=torch.float64),\n",
       "   tensor(0.9650, device='cuda:0', dtype=torch.float64),\n",
       "   tensor(0.9272, device='cuda:0', dtype=torch.float64),\n",
       "   tensor(0.9641, device='cuda:0', dtype=torch.float64),\n",
       "   tensor(0.9660, device='cuda:0', dtype=torch.float64),\n",
       "   tensor(0.9650, device='cuda:0', dtype=torch.float64),\n",
       "   tensor(0.9340, device='cuda:0', dtype=torch.float64),\n",
       "   tensor(0.9728, device='cuda:0', dtype=torch.float64),\n",
       "   tensor(0.9612, device='cuda:0', dtype=torch.float64),\n",
       "   tensor(0.9641, device='cuda:0', dtype=torch.float64),\n",
       "   tensor(0.9621, device='cuda:0', dtype=torch.float64),\n",
       "   tensor(0.9476, device='cuda:0', dtype=torch.float64),\n",
       "   tensor(0.9029, device='cuda:0', dtype=torch.float64),\n",
       "   tensor(0.9631, device='cuda:0', dtype=torch.float64),\n",
       "   tensor(0.9631, device='cuda:0', dtype=torch.float64),\n",
       "   tensor(0.9631, device='cuda:0', dtype=torch.float64),\n",
       "   tensor(0.9631, device='cuda:0', dtype=torch.float64),\n",
       "   tensor(0.9631, device='cuda:0', dtype=torch.float64),\n",
       "   tensor(0.9641, device='cuda:0', dtype=torch.float64),\n",
       "   tensor(0.9641, device='cuda:0', dtype=torch.float64),\n",
       "   tensor(0.9641, device='cuda:0', dtype=torch.float64),\n",
       "   tensor(0.9641, device='cuda:0', dtype=torch.float64),\n",
       "   tensor(0.9631, device='cuda:0', dtype=torch.float64),\n",
       "   tensor(0.9641, device='cuda:0', dtype=torch.float64),\n",
       "   tensor(0.9641, device='cuda:0', dtype=torch.float64),\n",
       "   tensor(0.9641, device='cuda:0', dtype=torch.float64)],\n",
       "  '0.25': [tensor(0.6251, device='cuda:0', dtype=torch.float64),\n",
       "   tensor(0.8163, device='cuda:0', dtype=torch.float64),\n",
       "   tensor(0.9044, device='cuda:0', dtype=torch.float64),\n",
       "   tensor(0.9368, device='cuda:0', dtype=torch.float64),\n",
       "   tensor(0.9343, device='cuda:0', dtype=torch.float64),\n",
       "   tensor(0.8396, device='cuda:0', dtype=torch.float64),\n",
       "   tensor(0.9418, device='cuda:0', dtype=torch.float64),\n",
       "   tensor(0.9252, device='cuda:0', dtype=torch.float64),\n",
       "   tensor(0.9568, device='cuda:0', dtype=torch.float64),\n",
       "   tensor(0.9518, device='cuda:0', dtype=torch.float64),\n",
       "   tensor(0.9534, device='cuda:0', dtype=torch.float64),\n",
       "   tensor(0.9277, device='cuda:0', dtype=torch.float64),\n",
       "   tensor(0.9510, device='cuda:0', dtype=torch.float64),\n",
       "   tensor(0.9576, device='cuda:0', dtype=torch.float64),\n",
       "   tensor(0.9576, device='cuda:0', dtype=torch.float64),\n",
       "   tensor(0.9534, device='cuda:0', dtype=torch.float64),\n",
       "   tensor(0.9127, device='cuda:0', dtype=torch.float64),\n",
       "   tensor(0.9551, device='cuda:0', dtype=torch.float64),\n",
       "   tensor(0.9534, device='cuda:0', dtype=torch.float64),\n",
       "   tensor(0.9543, device='cuda:0', dtype=torch.float64),\n",
       "   tensor(0.9501, device='cuda:0', dtype=torch.float64),\n",
       "   tensor(0.9501, device='cuda:0', dtype=torch.float64),\n",
       "   tensor(0.9526, device='cuda:0', dtype=torch.float64),\n",
       "   tensor(0.9526, device='cuda:0', dtype=torch.float64),\n",
       "   tensor(0.9526, device='cuda:0', dtype=torch.float64),\n",
       "   tensor(0.9526, device='cuda:0', dtype=torch.float64),\n",
       "   tensor(0.9526, device='cuda:0', dtype=torch.float64),\n",
       "   tensor(0.9510, device='cuda:0', dtype=torch.float64),\n",
       "   tensor(0.9518, device='cuda:0', dtype=torch.float64),\n",
       "   tensor(0.9518, device='cuda:0', dtype=torch.float64)],\n",
       "  '0.5': [tensor(0.5793, device='cuda:0', dtype=torch.float64),\n",
       "   tensor(0.7934, device='cuda:0', dtype=torch.float64),\n",
       "   tensor(0.9063, device='cuda:0', dtype=torch.float64),\n",
       "   tensor(0.8435, device='cuda:0', dtype=torch.float64),\n",
       "   tensor(0.8935, device='cuda:0', dtype=torch.float64),\n",
       "   tensor(0.8754, device='cuda:0', dtype=torch.float64),\n",
       "   tensor(0.8573, device='cuda:0', dtype=torch.float64),\n",
       "   tensor(0.9574, device='cuda:0', dtype=torch.float64),\n",
       "   tensor(0.9265, device='cuda:0', dtype=torch.float64),\n",
       "   tensor(0.9255, device='cuda:0', dtype=torch.float64),\n",
       "   tensor(0.8403, device='cuda:0', dtype=torch.float64),\n",
       "   tensor(0.9159, device='cuda:0', dtype=torch.float64),\n",
       "   tensor(0.9404, device='cuda:0', dtype=torch.float64),\n",
       "   tensor(0.9286, device='cuda:0', dtype=torch.float64),\n",
       "   tensor(0.9308, device='cuda:0', dtype=torch.float64),\n",
       "   tensor(0.9084, device='cuda:0', dtype=torch.float64),\n",
       "   tensor(0.9201, device='cuda:0', dtype=torch.float64),\n",
       "   tensor(0.9297, device='cuda:0', dtype=torch.float64),\n",
       "   tensor(0.9329, device='cuda:0', dtype=torch.float64),\n",
       "   tensor(0.9329, device='cuda:0', dtype=torch.float64),\n",
       "   tensor(0.9265, device='cuda:0', dtype=torch.float64),\n",
       "   tensor(0.9350, device='cuda:0', dtype=torch.float64),\n",
       "   tensor(0.9340, device='cuda:0', dtype=torch.float64),\n",
       "   tensor(0.9340, device='cuda:0', dtype=torch.float64),\n",
       "   tensor(0.9340, device='cuda:0', dtype=torch.float64),\n",
       "   tensor(0.9372, device='cuda:0', dtype=torch.float64),\n",
       "   tensor(0.9329, device='cuda:0', dtype=torch.float64),\n",
       "   tensor(0.9350, device='cuda:0', dtype=torch.float64),\n",
       "   tensor(0.9350, device='cuda:0', dtype=torch.float64),\n",
       "   tensor(0.9350, device='cuda:0', dtype=torch.float64)],\n",
       "  '0.75': [tensor(0.8397, device='cuda:0', dtype=torch.float64),\n",
       "   tensor(0.7873, device='cuda:0', dtype=torch.float64),\n",
       "   tensor(0.7524, device='cuda:0', dtype=torch.float64),\n",
       "   tensor(0.8937, device='cuda:0', dtype=torch.float64),\n",
       "   tensor(0.8968, device='cuda:0', dtype=torch.float64),\n",
       "   tensor(0.7730, device='cuda:0', dtype=torch.float64),\n",
       "   tensor(0.9333, device='cuda:0', dtype=torch.float64),\n",
       "   tensor(0.8778, device='cuda:0', dtype=torch.float64),\n",
       "   tensor(0.9349, device='cuda:0', dtype=torch.float64),\n",
       "   tensor(0.9397, device='cuda:0', dtype=torch.float64),\n",
       "   tensor(0.9381, device='cuda:0', dtype=torch.float64),\n",
       "   tensor(0.9381, device='cuda:0', dtype=torch.float64),\n",
       "   tensor(0.9286, device='cuda:0', dtype=torch.float64),\n",
       "   tensor(0.9444, device='cuda:0', dtype=torch.float64),\n",
       "   tensor(0.9460, device='cuda:0', dtype=torch.float64),\n",
       "   tensor(0.9460, device='cuda:0', dtype=torch.float64),\n",
       "   tensor(0.9349, device='cuda:0', dtype=torch.float64),\n",
       "   tensor(0.9444, device='cuda:0', dtype=torch.float64),\n",
       "   tensor(0.9429, device='cuda:0', dtype=torch.float64),\n",
       "   tensor(0.9429, device='cuda:0', dtype=torch.float64),\n",
       "   tensor(0.9254, device='cuda:0', dtype=torch.float64),\n",
       "   tensor(0.9349, device='cuda:0', dtype=torch.float64),\n",
       "   tensor(0.9381, device='cuda:0', dtype=torch.float64),\n",
       "   tensor(0.9381, device='cuda:0', dtype=torch.float64),\n",
       "   tensor(0.9381, device='cuda:0', dtype=torch.float64),\n",
       "   tensor(0.9365, device='cuda:0', dtype=torch.float64),\n",
       "   tensor(0.9349, device='cuda:0', dtype=torch.float64),\n",
       "   tensor(0.9365, device='cuda:0', dtype=torch.float64),\n",
       "   tensor(0.9365, device='cuda:0', dtype=torch.float64),\n",
       "   tensor(0.9365, device='cuda:0', dtype=torch.float64)],\n",
       "  '1.0': [tensor(0.8517, device='cuda:0', dtype=torch.float64),\n",
       "   tensor(0.9617, device='cuda:0', dtype=torch.float64),\n",
       "   tensor(0.9856, device='cuda:0', dtype=torch.float64),\n",
       "   tensor(0.9904, device='cuda:0', dtype=torch.float64),\n",
       "   tensor(0.9904, device='cuda:0', dtype=torch.float64),\n",
       "   tensor(0.9665, device='cuda:0', dtype=torch.float64),\n",
       "   tensor(0.9904, device='cuda:0', dtype=torch.float64),\n",
       "   tensor(0.9856, device='cuda:0', dtype=torch.float64),\n",
       "   tensor(0.9904, device='cuda:0', dtype=torch.float64),\n",
       "   tensor(0.9856, device='cuda:0', dtype=torch.float64),\n",
       "   tensor(0.9713, device='cuda:0', dtype=torch.float64),\n",
       "   tensor(0.9904, device='cuda:0', dtype=torch.float64),\n",
       "   tensor(0.9856, device='cuda:0', dtype=torch.float64),\n",
       "   tensor(0.9856, device='cuda:0', dtype=torch.float64),\n",
       "   tensor(0.9856, device='cuda:0', dtype=torch.float64),\n",
       "   tensor(0.9904, device='cuda:0', dtype=torch.float64),\n",
       "   tensor(0.9904, device='cuda:0', dtype=torch.float64),\n",
       "   tensor(0.9904, device='cuda:0', dtype=torch.float64),\n",
       "   tensor(0.9904, device='cuda:0', dtype=torch.float64),\n",
       "   tensor(0.9904, device='cuda:0', dtype=torch.float64),\n",
       "   tensor(0.9904, device='cuda:0', dtype=torch.float64),\n",
       "   tensor(0.9904, device='cuda:0', dtype=torch.float64),\n",
       "   tensor(0.9904, device='cuda:0', dtype=torch.float64),\n",
       "   tensor(0.9904, device='cuda:0', dtype=torch.float64),\n",
       "   tensor(0.9904, device='cuda:0', dtype=torch.float64),\n",
       "   tensor(0.9904, device='cuda:0', dtype=torch.float64),\n",
       "   tensor(0.9904, device='cuda:0', dtype=torch.float64),\n",
       "   tensor(0.9904, device='cuda:0', dtype=torch.float64),\n",
       "   tensor(0.9904, device='cuda:0', dtype=torch.float64),\n",
       "   tensor(0.9904, device='cuda:0', dtype=torch.float64)]},\n",
       " 'best_epoch': 14}"
      ]
     },
     "execution_count": 9,
     "metadata": {},
     "output_type": "execute_result"
    }
   ],
   "source": [
    "param_dict"
   ]
  },
  {
   "cell_type": "code",
   "execution_count": null,
   "metadata": {
    "tags": []
   },
   "outputs": [
    {
     "name": "stdout",
     "output_type": "stream",
     "text": [
      "Classes:  ['0.0', '0.25', '0.5', '0.75', '1.0']\n",
      "number of instances to be used are 20054\n",
      "cuda\n",
      "[INFO] Created SummaryWriter, saving to: runs/2024-04-24/3000_data_instances/vit_b_8_WD_6_extended_WD_0_01_0_1_LR_0_0002_ext/12-00-39...\n",
      "Epoch 0/9\n",
      "----------\n"
     ]
    },
    {
     "name": "stderr",
     "output_type": "stream",
     "text": [
      "Epoch 0, train:  35%|███▌      | 178/502 [05:16<09:37,  1.78s/it, loss=0.343] "
     ]
    }
   ],
   "source": [
    "#use this function is running an extended experiment. which uses an existing model.\n",
    "# for different experiemnts, just copy and paste this below code, after making changes in the experiment yaml and run it\n",
    "\n",
    "\n",
    "\n",
    "Base_configurations_raw = init_base_config()\n",
    "Base_configurations = load_experiment_config(Base_configurations_raw,loc = 'utils/Experiments.yaml',experiment_name = '')\n",
    "\n",
    "if not Base_configurations['first_run']:\n",
    "\n",
    "    #running_dataloader\n",
    "    (dataloaders,dataset_sizes,\n",
    "     device,inputs,\n",
    "     merged_dataset, image_datasets, \n",
    "     class_names,data_transforms) = handle_data(Base_configurations,sub_folders,DATA_DIR=DATA_DIR,seed = 1000,\n",
    "                                        SUBSET_SIZE=SUBSET_SIZE,USE_SUBSET=USE_SUBSET,EXCLUDE=EXCLUDE,train_ratio=0.8,\n",
    "                                       batch_size=batch_size,shuffle=True,num_workers=0\n",
    "                                       )\n",
    "\n",
    "    \n",
    "    \n",
    "    model,param_groups, criterion,optimizer,optimizer_ft,exp_lr_scheduler, model_type, hparams = set_experiment_model(Base_configurations,device,NUM_EPOCHS,dropout\n",
    "                                                                    ,batch_size,model=model,use_existing_model=True)\n",
    "\n",
    "    model,param_dict,writer =   run_model_fine_tuning(SUBSET_SIZE,model_type,hparams,model,criterion,optimizer_ft,exp_lr_scheduler,\n",
    "                  dataloaders,device,dataset_sizes,class_names,\n",
    "\n",
    "                              num_epochs=NUM_EPOCHS\n",
    "                              ,epoch_start=epoch_start, writer = writer, use_prior_writer= False, \n",
    "                              return_writer = True, misc = '_ext'\n",
    "\n",
    "\n",
    "                 )  "
   ]
  },
  {
   "cell_type": "code",
   "execution_count": 21,
   "metadata": {
    "tags": []
   },
   "outputs": [
    {
     "data": {
      "text/plain": [
       "{'readings': {'train_accuracy': [0.16603184349517724,\n",
       "   0.16533689905857346,\n",
       "   0.1649716500758768,\n",
       "   0.16462437614667583,\n",
       "   0.16441406906073708,\n",
       "   0.162729467588017,\n",
       "   0.16252789485537597,\n",
       "   0.16248339926937175,\n",
       "   0.16243544908998941,\n",
       "   0.1623968340724452],\n",
       "  'train_loss': [tensor(0.9438, device='cuda:0', dtype=torch.float64),\n",
       "   tensor(0.9440, device='cuda:0', dtype=torch.float64),\n",
       "   tensor(0.9440, device='cuda:0', dtype=torch.float64),\n",
       "   tensor(0.9443, device='cuda:0', dtype=torch.float64),\n",
       "   tensor(0.9438, device='cuda:0', dtype=torch.float64),\n",
       "   tensor(0.9455, device='cuda:0', dtype=torch.float64),\n",
       "   tensor(0.9455, device='cuda:0', dtype=torch.float64),\n",
       "   tensor(0.9454, device='cuda:0', dtype=torch.float64),\n",
       "   tensor(0.9455, device='cuda:0', dtype=torch.float64),\n",
       "   tensor(0.9456, device='cuda:0', dtype=torch.float64)],\n",
       "  'val_accuracy': [0.2548824239590019,\n",
       "   0.2541029055541782,\n",
       "   0.25320863921396813,\n",
       "   0.2542256734883531,\n",
       "   0.2542970071046824,\n",
       "   0.25355152906889455,\n",
       "   0.25329702988553005,\n",
       "   0.2533124078393012,\n",
       "   0.25327078044615137,\n",
       "   0.25322017335543995],\n",
       "  'val_loss': [tensor(0.9038, device='cuda:0', dtype=torch.float64),\n",
       "   tensor(0.9045, device='cuda:0', dtype=torch.float64),\n",
       "   tensor(0.9040, device='cuda:0', dtype=torch.float64),\n",
       "   tensor(0.9050, device='cuda:0', dtype=torch.float64),\n",
       "   tensor(0.9058, device='cuda:0', dtype=torch.float64),\n",
       "   tensor(0.9063, device='cuda:0', dtype=torch.float64),\n",
       "   tensor(0.9055, device='cuda:0', dtype=torch.float64),\n",
       "   tensor(0.9058, device='cuda:0', dtype=torch.float64),\n",
       "   tensor(0.9055, device='cuda:0', dtype=torch.float64),\n",
       "   tensor(0.9060, device='cuda:0', dtype=torch.float64)],\n",
       "  '0.0': [tensor(0.9179, device='cuda:0', dtype=torch.float64),\n",
       "   tensor(0.9246, device='cuda:0', dtype=torch.float64),\n",
       "   tensor(0.9265, device='cuda:0', dtype=torch.float64),\n",
       "   tensor(0.9189, device='cuda:0', dtype=torch.float64),\n",
       "   tensor(0.9208, device='cuda:0', dtype=torch.float64),\n",
       "   tensor(0.9237, device='cuda:0', dtype=torch.float64),\n",
       "   tensor(0.9256, device='cuda:0', dtype=torch.float64),\n",
       "   tensor(0.9265, device='cuda:0', dtype=torch.float64),\n",
       "   tensor(0.9265, device='cuda:0', dtype=torch.float64),\n",
       "   tensor(0.9275, device='cuda:0', dtype=torch.float64)],\n",
       "  '0.25': [tensor(0.9207, device='cuda:0', dtype=torch.float64),\n",
       "   tensor(0.9141, device='cuda:0', dtype=torch.float64),\n",
       "   tensor(0.9158, device='cuda:0', dtype=torch.float64),\n",
       "   tensor(0.9207, device='cuda:0', dtype=torch.float64),\n",
       "   tensor(0.9224, device='cuda:0', dtype=torch.float64),\n",
       "   tensor(0.9199, device='cuda:0', dtype=torch.float64),\n",
       "   tensor(0.9182, device='cuda:0', dtype=torch.float64),\n",
       "   tensor(0.9174, device='cuda:0', dtype=torch.float64),\n",
       "   tensor(0.9174, device='cuda:0', dtype=torch.float64),\n",
       "   tensor(0.9174, device='cuda:0', dtype=torch.float64)],\n",
       "  '0.5': [tensor(0.8863, device='cuda:0', dtype=torch.float64),\n",
       "   tensor(0.8968, device='cuda:0', dtype=torch.float64),\n",
       "   tensor(0.8832, device='cuda:0', dtype=torch.float64),\n",
       "   tensor(0.8863, device='cuda:0', dtype=torch.float64),\n",
       "   tensor(0.8905, device='cuda:0', dtype=torch.float64),\n",
       "   tensor(0.8884, device='cuda:0', dtype=torch.float64),\n",
       "   tensor(0.8863, device='cuda:0', dtype=torch.float64),\n",
       "   tensor(0.8874, device='cuda:0', dtype=torch.float64),\n",
       "   tensor(0.8863, device='cuda:0', dtype=torch.float64),\n",
       "   tensor(0.8874, device='cuda:0', dtype=torch.float64)],\n",
       "  '0.75': [tensor(0.8539, device='cuda:0', dtype=torch.float64),\n",
       "   tensor(0.8443, device='cuda:0', dtype=torch.float64),\n",
       "   tensor(0.8555, device='cuda:0', dtype=torch.float64),\n",
       "   tensor(0.8604, device='cuda:0', dtype=torch.float64),\n",
       "   tensor(0.8523, device='cuda:0', dtype=torch.float64),\n",
       "   tensor(0.8587, device='cuda:0', dtype=torch.float64),\n",
       "   tensor(0.8571, device='cuda:0', dtype=torch.float64),\n",
       "   tensor(0.8571, device='cuda:0', dtype=torch.float64),\n",
       "   tensor(0.8571, device='cuda:0', dtype=torch.float64),\n",
       "   tensor(0.8571, device='cuda:0', dtype=torch.float64)],\n",
       "  '1.0': [tensor(0.9721, device='cuda:0', dtype=torch.float64),\n",
       "   tensor(0.9721, device='cuda:0', dtype=torch.float64),\n",
       "   tensor(0.9721, device='cuda:0', dtype=torch.float64),\n",
       "   tensor(0.9721, device='cuda:0', dtype=torch.float64),\n",
       "   tensor(0.9721, device='cuda:0', dtype=torch.float64),\n",
       "   tensor(0.9721, device='cuda:0', dtype=torch.float64),\n",
       "   tensor(0.9721, device='cuda:0', dtype=torch.float64),\n",
       "   tensor(0.9721, device='cuda:0', dtype=torch.float64),\n",
       "   tensor(0.9721, device='cuda:0', dtype=torch.float64),\n",
       "   tensor(0.9721, device='cuda:0', dtype=torch.float64)]},\n",
       " 'best_epoch': 30}"
      ]
     },
     "execution_count": 21,
     "metadata": {},
     "output_type": "execute_result"
    }
   ],
   "source": [
    "param_dict"
   ]
  },
  {
   "cell_type": "code",
   "execution_count": null,
   "metadata": {
    "tags": []
   },
   "outputs": [
    {
     "data": {
      "text/plain": [
       "{'readings': {'train_accuracy': [0.9178886822146355,\n",
       "   0.5675856911957,\n",
       "   0.4640848559999023,\n",
       "   0.4062937527183493,\n",
       "   0.3713093530966042,\n",
       "   0.34898006676501825,\n",
       "   0.3328126991734365,\n",
       "   0.3330253208393837,\n",
       "   0.34516058780008185,\n",
       "   0.3431067426424776,\n",
       "   0.22347840374562164,\n",
       "   0.20834964235037898,\n",
       "   0.20148387918751384,\n",
       "   0.1978761576483436,\n",
       "   0.1931260202591098,\n",
       "   0.19066529757570969,\n",
       "   0.1867432863027357,\n",
       "   0.18646502398028306,\n",
       "   0.18390069078167112,\n",
       "   0.18114587800491483,\n",
       "   0.16753582335288245,\n",
       "   0.16591849314566823,\n",
       "   0.16554717149162637,\n",
       "   0.16499431666147232,\n",
       "   0.16448517150924752],\n",
       "  'train_loss': [tensor(0.6140, device='cuda:0', dtype=torch.float64),\n",
       "   tensor(0.7739, device='cuda:0', dtype=torch.float64),\n",
       "   tensor(0.8139, device='cuda:0', dtype=torch.float64),\n",
       "   tensor(0.8395, device='cuda:0', dtype=torch.float64),\n",
       "   tensor(0.8551, device='cuda:0', dtype=torch.float64),\n",
       "   tensor(0.8636, device='cuda:0', dtype=torch.float64),\n",
       "   tensor(0.8700, device='cuda:0', dtype=torch.float64),\n",
       "   tensor(0.8663, device='cuda:0', dtype=torch.float64),\n",
       "   tensor(0.8644, device='cuda:0', dtype=torch.float64),\n",
       "   tensor(0.8607, device='cuda:0', dtype=torch.float64),\n",
       "   tensor(0.9200, device='cuda:0', dtype=torch.float64),\n",
       "   tensor(0.9225, device='cuda:0', dtype=torch.float64),\n",
       "   tensor(0.9268, device='cuda:0', dtype=torch.float64),\n",
       "   tensor(0.9269, device='cuda:0', dtype=torch.float64),\n",
       "   tensor(0.9286, device='cuda:0', dtype=torch.float64),\n",
       "   tensor(0.9291, device='cuda:0', dtype=torch.float64),\n",
       "   tensor(0.9322, device='cuda:0', dtype=torch.float64),\n",
       "   tensor(0.9306, device='cuda:0', dtype=torch.float64),\n",
       "   tensor(0.9319, device='cuda:0', dtype=torch.float64),\n",
       "   tensor(0.9342, device='cuda:0', dtype=torch.float64),\n",
       "   tensor(0.9424, device='cuda:0', dtype=torch.float64),\n",
       "   tensor(0.9437, device='cuda:0', dtype=torch.float64),\n",
       "   tensor(0.9442, device='cuda:0', dtype=torch.float64),\n",
       "   tensor(0.9438, device='cuda:0', dtype=torch.float64),\n",
       "   tensor(0.9441, device='cuda:0', dtype=torch.float64)],\n",
       "  'val_accuracy': [0.6465106869064879,\n",
       "   0.8479184777443619,\n",
       "   0.4970880416571366,\n",
       "   0.7812476079382524,\n",
       "   0.7148636738072901,\n",
       "   0.39482472629298654,\n",
       "   0.38663022323785295,\n",
       "   0.37985663168360784,\n",
       "   0.6400152169032395,\n",
       "   0.4599174752671711,\n",
       "   0.28240435128570407,\n",
       "   0.2772859284346373,\n",
       "   0.27407217454476357,\n",
       "   0.2737022588167426,\n",
       "   0.2759444667599915,\n",
       "   0.2679640980647764,\n",
       "   0.2648010061465425,\n",
       "   0.2610524521745431,\n",
       "   0.2914133344660136,\n",
       "   0.2582631115380204,\n",
       "   0.2536257813842301,\n",
       "   0.25417551387875076,\n",
       "   0.25332085600452986,\n",
       "   0.2527987983897867,\n",
       "   0.2536639647720402],\n",
       "  'val_loss': [tensor(0.7367, device='cuda:0', dtype=torch.float64),\n",
       "   tensor(0.6647, device='cuda:0', dtype=torch.float64),\n",
       "   tensor(0.7941, device='cuda:0', dtype=torch.float64),\n",
       "   tensor(0.7210, device='cuda:0', dtype=torch.float64),\n",
       "   tensor(0.7243, device='cuda:0', dtype=torch.float64),\n",
       "   tensor(0.8312, device='cuda:0', dtype=torch.float64),\n",
       "   tensor(0.8387, device='cuda:0', dtype=torch.float64),\n",
       "   tensor(0.8389, device='cuda:0', dtype=torch.float64),\n",
       "   tensor(0.7646, device='cuda:0', dtype=torch.float64),\n",
       "   tensor(0.8083, device='cuda:0', dtype=torch.float64),\n",
       "   tensor(0.8928, device='cuda:0', dtype=torch.float64),\n",
       "   tensor(0.8925, device='cuda:0', dtype=torch.float64),\n",
       "   tensor(0.8935, device='cuda:0', dtype=torch.float64),\n",
       "   tensor(0.8955, device='cuda:0', dtype=torch.float64),\n",
       "   tensor(0.8913, device='cuda:0', dtype=torch.float64),\n",
       "   tensor(0.8988, device='cuda:0', dtype=torch.float64),\n",
       "   tensor(0.8988, device='cuda:0', dtype=torch.float64),\n",
       "   tensor(0.9010, device='cuda:0', dtype=torch.float64),\n",
       "   tensor(0.8811, device='cuda:0', dtype=torch.float64),\n",
       "   tensor(0.8990, device='cuda:0', dtype=torch.float64),\n",
       "   tensor(0.9053, device='cuda:0', dtype=torch.float64),\n",
       "   tensor(0.9035, device='cuda:0', dtype=torch.float64),\n",
       "   tensor(0.9053, device='cuda:0', dtype=torch.float64),\n",
       "   tensor(0.9048, device='cuda:0', dtype=torch.float64),\n",
       "   tensor(0.9048, device='cuda:0', dtype=torch.float64)],\n",
       "  '0.0': [tensor(0.8120, device='cuda:0', dtype=torch.float64),\n",
       "   tensor(0.7557, device='cuda:0', dtype=torch.float64),\n",
       "   tensor(0.8302, device='cuda:0', dtype=torch.float64),\n",
       "   tensor(0.9876, device='cuda:0', dtype=torch.float64),\n",
       "   tensor(0.8111, device='cuda:0', dtype=torch.float64),\n",
       "   tensor(0.9265, device='cuda:0', dtype=torch.float64),\n",
       "   tensor(0.9294, device='cuda:0', dtype=torch.float64),\n",
       "   tensor(0.9084, device='cuda:0', dtype=torch.float64),\n",
       "   tensor(0.8807, device='cuda:0', dtype=torch.float64),\n",
       "   tensor(0.8349, device='cuda:0', dtype=torch.float64),\n",
       "   tensor(0.9227, device='cuda:0', dtype=torch.float64),\n",
       "   tensor(0.9103, device='cuda:0', dtype=torch.float64),\n",
       "   tensor(0.9218, device='cuda:0', dtype=torch.float64),\n",
       "   tensor(0.9323, device='cuda:0', dtype=torch.float64),\n",
       "   tensor(0.9198, device='cuda:0', dtype=torch.float64),\n",
       "   tensor(0.9198, device='cuda:0', dtype=torch.float64),\n",
       "   tensor(0.9418, device='cuda:0', dtype=torch.float64),\n",
       "   tensor(0.9275, device='cuda:0', dtype=torch.float64),\n",
       "   tensor(0.9284, device='cuda:0', dtype=torch.float64),\n",
       "   tensor(0.9313, device='cuda:0', dtype=torch.float64),\n",
       "   tensor(0.9208, device='cuda:0', dtype=torch.float64),\n",
       "   tensor(0.9237, device='cuda:0', dtype=torch.float64),\n",
       "   tensor(0.9256, device='cuda:0', dtype=torch.float64),\n",
       "   tensor(0.9303, device='cuda:0', dtype=torch.float64),\n",
       "   tensor(0.9218, device='cuda:0', dtype=torch.float64)],\n",
       "  '0.25': [tensor(0.8340, device='cuda:0', dtype=torch.float64),\n",
       "   tensor(0.3914, device='cuda:0', dtype=torch.float64),\n",
       "   tensor(0.8390, device='cuda:0', dtype=torch.float64),\n",
       "   tensor(0.4195, device='cuda:0', dtype=torch.float64),\n",
       "   tensor(0.5475, device='cuda:0', dtype=torch.float64),\n",
       "   tensor(0.7242, device='cuda:0', dtype=torch.float64),\n",
       "   tensor(0.8877, device='cuda:0', dtype=torch.float64),\n",
       "   tensor(0.8398, device='cuda:0', dtype=torch.float64),\n",
       "   tensor(0.8365, device='cuda:0', dtype=torch.float64),\n",
       "   tensor(0.8497, device='cuda:0', dtype=torch.float64),\n",
       "   tensor(0.9042, device='cuda:0', dtype=torch.float64),\n",
       "   tensor(0.9009, device='cuda:0', dtype=torch.float64),\n",
       "   tensor(0.9059, device='cuda:0', dtype=torch.float64),\n",
       "   tensor(0.8844, device='cuda:0', dtype=torch.float64),\n",
       "   tensor(0.8803, device='cuda:0', dtype=torch.float64),\n",
       "   tensor(0.9108, device='cuda:0', dtype=torch.float64),\n",
       "   tensor(0.8943, device='cuda:0', dtype=torch.float64),\n",
       "   tensor(0.9224, device='cuda:0', dtype=torch.float64),\n",
       "   tensor(0.8877, device='cuda:0', dtype=torch.float64),\n",
       "   tensor(0.9034, device='cuda:0', dtype=torch.float64),\n",
       "   tensor(0.9199, device='cuda:0', dtype=torch.float64),\n",
       "   tensor(0.9224, device='cuda:0', dtype=torch.float64),\n",
       "   tensor(0.9207, device='cuda:0', dtype=torch.float64),\n",
       "   tensor(0.9166, device='cuda:0', dtype=torch.float64),\n",
       "   tensor(0.9207, device='cuda:0', dtype=torch.float64)],\n",
       "  '0.5': [tensor(0.5632, device='cuda:0', dtype=torch.float64),\n",
       "   tensor(0.9253, device='cuda:0', dtype=torch.float64),\n",
       "   tensor(0.7168, device='cuda:0', dtype=torch.float64),\n",
       "   tensor(0.8126, device='cuda:0', dtype=torch.float64),\n",
       "   tensor(0.9600, device='cuda:0', dtype=torch.float64),\n",
       "   tensor(0.8105, device='cuda:0', dtype=torch.float64),\n",
       "   tensor(0.6421, device='cuda:0', dtype=torch.float64),\n",
       "   tensor(0.7347, device='cuda:0', dtype=torch.float64),\n",
       "   tensor(0.3916, device='cuda:0', dtype=torch.float64),\n",
       "   tensor(0.8411, device='cuda:0', dtype=torch.float64),\n",
       "   tensor(0.8674, device='cuda:0', dtype=torch.float64),\n",
       "   tensor(0.8842, device='cuda:0', dtype=torch.float64),\n",
       "   tensor(0.8926, device='cuda:0', dtype=torch.float64),\n",
       "   tensor(0.8874, device='cuda:0', dtype=torch.float64),\n",
       "   tensor(0.9074, device='cuda:0', dtype=torch.float64),\n",
       "   tensor(0.9074, device='cuda:0', dtype=torch.float64),\n",
       "   tensor(0.8863, device='cuda:0', dtype=torch.float64),\n",
       "   tensor(0.8716, device='cuda:0', dtype=torch.float64),\n",
       "   tensor(0.9095, device='cuda:0', dtype=torch.float64),\n",
       "   tensor(0.8779, device='cuda:0', dtype=torch.float64),\n",
       "   tensor(0.8979, device='cuda:0', dtype=torch.float64),\n",
       "   tensor(0.8737, device='cuda:0', dtype=torch.float64),\n",
       "   tensor(0.8895, device='cuda:0', dtype=torch.float64),\n",
       "   tensor(0.8821, device='cuda:0', dtype=torch.float64),\n",
       "   tensor(0.8832, device='cuda:0', dtype=torch.float64)],\n",
       "  '0.75': [tensor(0.6597, device='cuda:0', dtype=torch.float64),\n",
       "   tensor(0.5987, device='cuda:0', dtype=torch.float64),\n",
       "   tensor(0.7496, device='cuda:0', dtype=torch.float64),\n",
       "   tensor(0.6613, device='cuda:0', dtype=torch.float64),\n",
       "   tensor(0.5072, device='cuda:0', dtype=torch.float64),\n",
       "   tensor(0.8780, device='cuda:0', dtype=torch.float64),\n",
       "   tensor(0.8587, device='cuda:0', dtype=torch.float64),\n",
       "   tensor(0.8459, device='cuda:0', dtype=torch.float64),\n",
       "   tensor(0.9647, device='cuda:0', dtype=torch.float64),\n",
       "   tensor(0.5843, device='cuda:0', dtype=torch.float64),\n",
       "   tensor(0.8411, device='cuda:0', dtype=torch.float64),\n",
       "   tensor(0.8395, device='cuda:0', dtype=torch.float64),\n",
       "   tensor(0.8042, device='cuda:0', dtype=torch.float64),\n",
       "   tensor(0.8475, device='cuda:0', dtype=torch.float64),\n",
       "   tensor(0.8202, device='cuda:0', dtype=torch.float64),\n",
       "   tensor(0.8090, device='cuda:0', dtype=torch.float64),\n",
       "   tensor(0.8347, device='cuda:0', dtype=torch.float64),\n",
       "   tensor(0.8411, device='cuda:0', dtype=torch.float64),\n",
       "   tensor(0.7175, device='cuda:0', dtype=torch.float64),\n",
       "   tensor(0.8475, device='cuda:0', dtype=torch.float64),\n",
       "   tensor(0.8427, device='cuda:0', dtype=torch.float64),\n",
       "   tensor(0.8587, device='cuda:0', dtype=torch.float64),\n",
       "   tensor(0.8459, device='cuda:0', dtype=torch.float64),\n",
       "   tensor(0.8539, device='cuda:0', dtype=torch.float64),\n",
       "   tensor(0.8587, device='cuda:0', dtype=torch.float64)],\n",
       "  '1.0': [tensor(0.8268, device='cuda:0', dtype=torch.float64),\n",
       "   tensor(0.8268, device='cuda:0', dtype=torch.float64),\n",
       "   tensor(0.8436, device='cuda:0', dtype=torch.float64),\n",
       "   tensor(0.9218, device='cuda:0', dtype=torch.float64),\n",
       "   tensor(0.9162, device='cuda:0', dtype=torch.float64),\n",
       "   tensor(0.9441, device='cuda:0', dtype=torch.float64),\n",
       "   tensor(0.9497, device='cuda:0', dtype=torch.float64),\n",
       "   tensor(0.9553, device='cuda:0', dtype=torch.float64),\n",
       "   tensor(0.8827, device='cuda:0', dtype=torch.float64),\n",
       "   tensor(0.9777, device='cuda:0', dtype=torch.float64),\n",
       "   tensor(0.9553, device='cuda:0', dtype=torch.float64),\n",
       "   tensor(0.9609, device='cuda:0', dtype=torch.float64),\n",
       "   tensor(0.9609, device='cuda:0', dtype=torch.float64),\n",
       "   tensor(0.9665, device='cuda:0', dtype=torch.float64),\n",
       "   tensor(0.9609, device='cuda:0', dtype=torch.float64),\n",
       "   tensor(0.9609, device='cuda:0', dtype=torch.float64),\n",
       "   tensor(0.9665, device='cuda:0', dtype=torch.float64),\n",
       "   tensor(0.9665, device='cuda:0', dtype=torch.float64),\n",
       "   tensor(0.9777, device='cuda:0', dtype=torch.float64),\n",
       "   tensor(0.9721, device='cuda:0', dtype=torch.float64),\n",
       "   tensor(0.9721, device='cuda:0', dtype=torch.float64),\n",
       "   tensor(0.9721, device='cuda:0', dtype=torch.float64),\n",
       "   tensor(0.9721, device='cuda:0', dtype=torch.float64),\n",
       "   tensor(0.9721, device='cuda:0', dtype=torch.float64),\n",
       "   tensor(0.9721, device='cuda:0', dtype=torch.float64)]},\n",
       " 'best_epoch': 20}"
      ]
     },
     "execution_count": 15,
     "metadata": {},
     "output_type": "execute_result"
    }
   ],
   "source": [
    "param_dict"
   ]
  },
  {
   "cell_type": "code",
   "execution_count": 43,
   "metadata": {
    "tags": []
   },
   "outputs": [
    {
     "ename": "NameError",
     "evalue": "name 'imshow' is not defined",
     "output_type": "error",
     "traceback": [
      "\u001b[0;31m---------------------------------------------------------------------------\u001b[0m",
      "\u001b[0;31mNameError\u001b[0m                                 Traceback (most recent call last)",
      "Cell \u001b[0;32mIn[43], line 3\u001b[0m\n\u001b[1;32m      1\u001b[0m \u001b[38;5;28;01mfrom\u001b[39;00m \u001b[38;5;21;01mutils\u001b[39;00m\u001b[38;5;21;01m.\u001b[39;00m\u001b[38;5;21;01mtraining_utils\u001b[39;00m \u001b[38;5;28;01mimport\u001b[39;00m visualize_model\n\u001b[0;32m----> 3\u001b[0m visualize_model(model[\u001b[38;5;241m0\u001b[39m], dataloaders, device, class_names, \u001b[43mimshow\u001b[49m, num_images\u001b[38;5;241m=\u001b[39m\u001b[38;5;241m4\u001b[39m)\n",
      "\u001b[0;31mNameError\u001b[0m: name 'imshow' is not defined"
     ]
    }
   ],
   "source": [
    "from utils.training_utils import visualize_model\n",
    "\n",
    "visualize_model(model[0], dataloaders, device, class_names, imshow, num_images=4)"
   ]
  }
 ],
 "metadata": {
  "environment": {
   "kernel": "conda-root-py",
   "name": "workbench-notebooks.m119",
   "type": "gcloud",
   "uri": "us-docker.pkg.dev/deeplearning-platform-release/gcr.io/workbench-notebooks:m119"
  },
  "kernelspec": {
   "display_name": "Python 3 (ipykernel) (Local)",
   "language": "python",
   "name": "conda-root-py"
  },
  "language_info": {
   "codemirror_mode": {
    "name": "ipython",
    "version": 3
   },
   "file_extension": ".py",
   "mimetype": "text/x-python",
   "name": "python",
   "nbconvert_exporter": "python",
   "pygments_lexer": "ipython3",
   "version": "3.10.14"
  }
 },
 "nbformat": 4,
 "nbformat_minor": 4
}
