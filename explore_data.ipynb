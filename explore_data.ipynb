{
 "cells": [
  {
   "cell_type": "markdown",
   "metadata": {},
   "source": [
    "# Data Exploration\n",
    "\n",
    "A notebook to explore the available media precipitation data"
   ]
  },
  {
   "cell_type": "code",
   "execution_count": null,
   "metadata": {},
   "outputs": [],
   "source": [
    "import os\n",
    "\n",
    "\n",
    "def count_files(directory):\n",
    "    file_count = 0\n",
    "    for root, dirs, files in os.walk(directory):\n",
    "        file_count += len(files)\n",
    "        print(f\"{root}: {len(files)} files\")\n",
    "    return file_count\n",
    "\n",
    "\n",
    "# Specify the directory path\n",
    "directory_path = \"cs7643_image_data/multus-precipitation-data-shared\"\n",
    "\n",
    "# Call the function to count files recursively\n",
    "total_files = count_files(directory_path)\n",
    "\n",
    "print(f\"\\nTotal files: {total_files}\")"
   ]
  }
 ],
 "metadata": {
  "kernelspec": {
   "display_name": "cs7643-final-proj",
   "language": "python",
   "name": "python3"
  },
  "language_info": {
   "codemirror_mode": {
    "name": "ipython",
    "version": 3
   },
   "file_extension": ".py",
   "mimetype": "text/x-python",
   "name": "python",
   "nbconvert_exporter": "python",
   "pygments_lexer": "ipython3",
   "version": "3.12.2"
  }
 },
 "nbformat": 4,
 "nbformat_minor": 2
}
